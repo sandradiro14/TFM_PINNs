{
 "cells": [
  {
   "cell_type": "markdown",
   "metadata": {
    "id": "nxX1h3__Befo"
   },
   "source": [
    "# 1. Importación de librerías y carga de datos"
   ]
  },
  {
   "cell_type": "code",
   "execution_count": 1,
   "metadata": {
    "id": "QOAWPxnnAvTn"
   },
   "outputs": [],
   "source": [
    "# from google.colab import drive\n",
    "import matplotlib.pyplot as plt\n",
    "import pandas as pd\n",
    "import os"
   ]
  },
  {
   "cell_type": "code",
   "execution_count": 2,
   "metadata": {
    "colab": {
     "base_uri": "https://localhost:8080/",
     "height": 206
    },
    "id": "rKiuvQyLA2zT",
    "outputId": "55c63510-83cf-4663-e9d5-7a8473f96c64"
   },
   "outputs": [
    {
     "name": "stderr",
     "output_type": "stream",
     "text": [
      "C:\\Users\\sandr\\anaconda3\\lib\\site-packages\\IPython\\core\\interactiveshell.py:3165: DtypeWarning: Columns (4) have mixed types.Specify dtype option on import or set low_memory=False.\n",
      "  has_raised = await self.run_ast_nodes(code_ast.body, cell_name,\n"
     ]
    },
    {
     "data": {
      "text/html": [
       "<div>\n",
       "<style scoped>\n",
       "    .dataframe tbody tr th:only-of-type {\n",
       "        vertical-align: middle;\n",
       "    }\n",
       "\n",
       "    .dataframe tbody tr th {\n",
       "        vertical-align: top;\n",
       "    }\n",
       "\n",
       "    .dataframe thead th {\n",
       "        text-align: right;\n",
       "    }\n",
       "</style>\n",
       "<table border=\"1\" class=\"dataframe\">\n",
       "  <thead>\n",
       "    <tr style=\"text-align: right;\">\n",
       "      <th></th>\n",
       "      <th>time(s)</th>\n",
       "      <th>vehicle_id</th>\n",
       "      <th>victim_id</th>\n",
       "      <th>shape_collider</th>\n",
       "      <th>shape_victim</th>\n",
       "      <th>latitude(m)</th>\n",
       "      <th>longitude(m)</th>\n",
       "      <th>speed(m/s)</th>\n",
       "      <th>heading</th>\n",
       "      <th>acceleration(m/s²)</th>\n",
       "      <th>collision</th>\n",
       "    </tr>\n",
       "  </thead>\n",
       "  <tbody>\n",
       "    <tr>\n",
       "      <th>0</th>\n",
       "      <td>1.0</td>\n",
       "      <td>0</td>\n",
       "      <td>-1</td>\n",
       "      <td>passenger</td>\n",
       "      <td>-1</td>\n",
       "      <td>41.402717</td>\n",
       "      <td>2.137950</td>\n",
       "      <td>14.7234</td>\n",
       "      <td>137.798227</td>\n",
       "      <td>0.0</td>\n",
       "      <td>0</td>\n",
       "    </tr>\n",
       "    <tr>\n",
       "      <th>1</th>\n",
       "      <td>1.0</td>\n",
       "      <td>200</td>\n",
       "      <td>-1</td>\n",
       "      <td>delivery</td>\n",
       "      <td>-1</td>\n",
       "      <td>41.401891</td>\n",
       "      <td>2.146248</td>\n",
       "      <td>0.0000</td>\n",
       "      <td>126.656286</td>\n",
       "      <td>0.0</td>\n",
       "      <td>0</td>\n",
       "    </tr>\n",
       "    <tr>\n",
       "      <th>2</th>\n",
       "      <td>1.0</td>\n",
       "      <td>201</td>\n",
       "      <td>-1</td>\n",
       "      <td>motorcycle</td>\n",
       "      <td>-1</td>\n",
       "      <td>41.396495</td>\n",
       "      <td>2.159059</td>\n",
       "      <td>0.0000</td>\n",
       "      <td>253.423078</td>\n",
       "      <td>0.0</td>\n",
       "      <td>0</td>\n",
       "    </tr>\n",
       "    <tr>\n",
       "      <th>3</th>\n",
       "      <td>1.0</td>\n",
       "      <td>202</td>\n",
       "      <td>-1</td>\n",
       "      <td>passenger</td>\n",
       "      <td>-1</td>\n",
       "      <td>41.393329</td>\n",
       "      <td>2.148322</td>\n",
       "      <td>0.0000</td>\n",
       "      <td>318.602899</td>\n",
       "      <td>0.0</td>\n",
       "      <td>0</td>\n",
       "    </tr>\n",
       "    <tr>\n",
       "      <th>4</th>\n",
       "      <td>1.0</td>\n",
       "      <td>203</td>\n",
       "      <td>-1</td>\n",
       "      <td>delivery</td>\n",
       "      <td>-1</td>\n",
       "      <td>41.391727</td>\n",
       "      <td>2.154971</td>\n",
       "      <td>0.0000</td>\n",
       "      <td>316.186762</td>\n",
       "      <td>0.0</td>\n",
       "      <td>0</td>\n",
       "    </tr>\n",
       "  </tbody>\n",
       "</table>\n",
       "</div>"
      ],
      "text/plain": [
       "   time(s)  vehicle_id  victim_id shape_collider shape_victim  latitude(m)  \\\n",
       "0      1.0           0         -1      passenger           -1    41.402717   \n",
       "1      1.0         200         -1       delivery           -1    41.401891   \n",
       "2      1.0         201         -1     motorcycle           -1    41.396495   \n",
       "3      1.0         202         -1      passenger           -1    41.393329   \n",
       "4      1.0         203         -1       delivery           -1    41.391727   \n",
       "\n",
       "   longitude(m)  speed(m/s)     heading  acceleration(m/s²)  collision  \n",
       "0      2.137950     14.7234  137.798227                 0.0          0  \n",
       "1      2.146248      0.0000  126.656286                 0.0          0  \n",
       "2      2.159059      0.0000  253.423078                 0.0          0  \n",
       "3      2.148322      0.0000  318.602899                 0.0          0  \n",
       "4      2.154971      0.0000  316.186762                 0.0          0  "
      ]
     },
     "execution_count": 2,
     "metadata": {},
     "output_type": "execute_result"
    }
   ],
   "source": [
    "# Load dataset of positions\n",
    "df = pd.read_csv(\"positions.csv\")\n",
    "df.head()"
   ]
  },
  {
   "cell_type": "code",
   "execution_count": 3,
   "metadata": {},
   "outputs": [
    {
     "data": {
      "text/html": [
       "<div>\n",
       "<style scoped>\n",
       "    .dataframe tbody tr th:only-of-type {\n",
       "        vertical-align: middle;\n",
       "    }\n",
       "\n",
       "    .dataframe tbody tr th {\n",
       "        vertical-align: top;\n",
       "    }\n",
       "\n",
       "    .dataframe thead th {\n",
       "        text-align: right;\n",
       "    }\n",
       "</style>\n",
       "<table border=\"1\" class=\"dataframe\">\n",
       "  <thead>\n",
       "    <tr style=\"text-align: right;\">\n",
       "      <th></th>\n",
       "      <th>time(s)</th>\n",
       "      <th>vehicle_id</th>\n",
       "      <th>victim_id</th>\n",
       "      <th>shape_collider</th>\n",
       "      <th>shape_victim</th>\n",
       "      <th>latitude(m)</th>\n",
       "      <th>longitude(m)</th>\n",
       "      <th>speed(m/s)</th>\n",
       "      <th>heading</th>\n",
       "      <th>acceleration(m/s²)</th>\n",
       "      <th>collision</th>\n",
       "    </tr>\n",
       "  </thead>\n",
       "  <tbody>\n",
       "    <tr>\n",
       "      <th>0</th>\n",
       "      <td>1.0</td>\n",
       "      <td>0</td>\n",
       "      <td>-1</td>\n",
       "      <td>passenger</td>\n",
       "      <td>-1</td>\n",
       "      <td>41.402717</td>\n",
       "      <td>2.137950</td>\n",
       "      <td>14.723400</td>\n",
       "      <td>137.798227</td>\n",
       "      <td>0.000000</td>\n",
       "      <td>0</td>\n",
       "    </tr>\n",
       "    <tr>\n",
       "      <th>31</th>\n",
       "      <td>2.0</td>\n",
       "      <td>0</td>\n",
       "      <td>-1</td>\n",
       "      <td>passenger</td>\n",
       "      <td>-1</td>\n",
       "      <td>41.402633</td>\n",
       "      <td>2.138082</td>\n",
       "      <td>14.418443</td>\n",
       "      <td>128.510085</td>\n",
       "      <td>-0.304957</td>\n",
       "      <td>0</td>\n",
       "    </tr>\n",
       "    <tr>\n",
       "      <th>64</th>\n",
       "      <td>3.0</td>\n",
       "      <td>0</td>\n",
       "      <td>-1</td>\n",
       "      <td>passenger</td>\n",
       "      <td>-1</td>\n",
       "      <td>41.402549</td>\n",
       "      <td>2.138213</td>\n",
       "      <td>14.193703</td>\n",
       "      <td>128.510085</td>\n",
       "      <td>-0.224740</td>\n",
       "      <td>0</td>\n",
       "    </tr>\n",
       "    <tr>\n",
       "      <th>100</th>\n",
       "      <td>4.0</td>\n",
       "      <td>0</td>\n",
       "      <td>-1</td>\n",
       "      <td>passenger</td>\n",
       "      <td>-1</td>\n",
       "      <td>41.402468</td>\n",
       "      <td>2.138340</td>\n",
       "      <td>13.853303</td>\n",
       "      <td>135.176752</td>\n",
       "      <td>-0.340400</td>\n",
       "      <td>0</td>\n",
       "    </tr>\n",
       "    <tr>\n",
       "      <th>158</th>\n",
       "      <td>5.0</td>\n",
       "      <td>0</td>\n",
       "      <td>-1</td>\n",
       "      <td>passenger</td>\n",
       "      <td>-1</td>\n",
       "      <td>41.402378</td>\n",
       "      <td>2.138462</td>\n",
       "      <td>14.350286</td>\n",
       "      <td>135.176752</td>\n",
       "      <td>0.496983</td>\n",
       "      <td>0</td>\n",
       "    </tr>\n",
       "  </tbody>\n",
       "</table>\n",
       "</div>"
      ],
      "text/plain": [
       "     time(s)  vehicle_id  victim_id shape_collider shape_victim  latitude(m)  \\\n",
       "0        1.0           0         -1      passenger           -1    41.402717   \n",
       "31       2.0           0         -1      passenger           -1    41.402633   \n",
       "64       3.0           0         -1      passenger           -1    41.402549   \n",
       "100      4.0           0         -1      passenger           -1    41.402468   \n",
       "158      5.0           0         -1      passenger           -1    41.402378   \n",
       "\n",
       "     longitude(m)  speed(m/s)     heading  acceleration(m/s²)  collision  \n",
       "0        2.137950   14.723400  137.798227            0.000000          0  \n",
       "31       2.138082   14.418443  128.510085           -0.304957          0  \n",
       "64       2.138213   14.193703  128.510085           -0.224740          0  \n",
       "100      2.138340   13.853303  135.176752           -0.340400          0  \n",
       "158      2.138462   14.350286  135.176752            0.496983          0  "
      ]
     },
     "execution_count": 3,
     "metadata": {},
     "output_type": "execute_result"
    }
   ],
   "source": [
    "df = df.sort_values(by=['vehicle_id', 'time(s)'])\n",
    "df.head()"
   ]
  },
  {
   "cell_type": "code",
   "execution_count": 5,
   "metadata": {},
   "outputs": [
    {
     "name": "stdout",
     "output_type": "stream",
     "text": [
      "(215846924, 11)\n"
     ]
    }
   ],
   "source": [
    "print(df.shape)"
   ]
  },
  {
   "cell_type": "code",
   "execution_count": 6,
   "metadata": {},
   "outputs": [
    {
     "name": "stdout",
     "output_type": "stream",
     "text": [
      "(107476, 2)\n"
     ]
    }
   ],
   "source": [
    "df_veh = df[['vehicle_id','shape_collider']]\n",
    "df_veh = df_veh.drop_duplicates()\n",
    "print(df_veh.shape)\n",
    "df_veh.to_csv('colliders_type.csv')"
   ]
  },
  {
   "cell_type": "code",
   "execution_count": 7,
   "metadata": {},
   "outputs": [],
   "source": [
    "df_veh = df[['victim_id','shape_victim']]\n",
    "df_veh = df_veh.drop_duplicates()\n",
    "df_veh.to_csv('victims_type.csv')"
   ]
  },
  {
   "cell_type": "code",
   "execution_count": 8,
   "metadata": {},
   "outputs": [
    {
     "name": "stdout",
     "output_type": "stream",
     "text": [
      "positions: (215846924, 11)\n",
      "Observations: 215846924\n",
      "Variables: 11\n",
      "Vehicles: 107476\n"
     ]
    }
   ],
   "source": [
    "# Dataset size\n",
    "print(\"positions:\", df.shape)\n",
    "print(\"Observations: {}\".format(df.shape[0]))\n",
    "print(\"Variables: {}\".format(df.shape[1]))\n",
    "print(\"Vehicles: {}\".format(len(df.vehicle_id.unique())))"
   ]
  },
  {
   "cell_type": "code",
   "execution_count": 9,
   "metadata": {
    "colab": {
     "base_uri": "https://localhost:8080/",
     "height": 206
    },
    "id": "6Vx9GHAOjnE1",
    "outputId": "d53186ab-8fa6-4d0f-aca5-8e56bf61e154"
   },
   "outputs": [
    {
     "data": {
      "text/html": [
       "<div>\n",
       "<style scoped>\n",
       "    .dataframe tbody tr th:only-of-type {\n",
       "        vertical-align: middle;\n",
       "    }\n",
       "\n",
       "    .dataframe tbody tr th {\n",
       "        vertical-align: top;\n",
       "    }\n",
       "\n",
       "    .dataframe thead th {\n",
       "        text-align: right;\n",
       "    }\n",
       "</style>\n",
       "<table border=\"1\" class=\"dataframe\">\n",
       "  <thead>\n",
       "    <tr style=\"text-align: right;\">\n",
       "      <th></th>\n",
       "      <th>vehicle_id</th>\n",
       "      <th>victim_id</th>\n",
       "    </tr>\n",
       "  </thead>\n",
       "  <tbody>\n",
       "    <tr>\n",
       "      <th>0</th>\n",
       "      <td>863</td>\n",
       "      <td>300</td>\n",
       "    </tr>\n",
       "    <tr>\n",
       "      <th>1</th>\n",
       "      <td>8573</td>\n",
       "      <td>8361</td>\n",
       "    </tr>\n",
       "    <tr>\n",
       "      <th>2</th>\n",
       "      <td>8745</td>\n",
       "      <td>8517</td>\n",
       "    </tr>\n",
       "    <tr>\n",
       "      <th>3</th>\n",
       "      <td>6756</td>\n",
       "      <td>719</td>\n",
       "    </tr>\n",
       "    <tr>\n",
       "      <th>4</th>\n",
       "      <td>8104</td>\n",
       "      <td>9096</td>\n",
       "    </tr>\n",
       "  </tbody>\n",
       "</table>\n",
       "</div>"
      ],
      "text/plain": [
       "   vehicle_id  victim_id\n",
       "0         863        300\n",
       "1        8573       8361\n",
       "2        8745       8517\n",
       "3        6756        719\n",
       "4        8104       9096"
      ]
     },
     "execution_count": 9,
     "metadata": {},
     "output_type": "execute_result"
    }
   ],
   "source": [
    "# Load dataset with vehicles colision\n",
    "#DATASET_COL = os.path.join(DATASETS_FOLDER, \"collisions_1k.csv\")\n",
    "df_col = pd.read_csv('collisions_5k.csv')\n",
    "df_col = df_col[['vehicle_id', 'victim_id']].astype(int)\n",
    "df_col.head()"
   ]
  },
  {
   "cell_type": "code",
   "execution_count": 10,
   "metadata": {
    "colab": {
     "base_uri": "https://localhost:8080/",
     "height": 206
    },
    "id": "CgN_HjXKjpFh",
    "outputId": "4ddcaebf-7776-409c-b5e2-203ae721c1fe"
   },
   "outputs": [
    {
     "data": {
      "text/html": [
       "<div>\n",
       "<style scoped>\n",
       "    .dataframe tbody tr th:only-of-type {\n",
       "        vertical-align: middle;\n",
       "    }\n",
       "\n",
       "    .dataframe tbody tr th {\n",
       "        vertical-align: top;\n",
       "    }\n",
       "\n",
       "    .dataframe thead th {\n",
       "        text-align: right;\n",
       "    }\n",
       "</style>\n",
       "<table border=\"1\" class=\"dataframe\">\n",
       "  <thead>\n",
       "    <tr style=\"text-align: right;\">\n",
       "      <th></th>\n",
       "      <th>v1</th>\n",
       "      <th>v2</th>\n",
       "    </tr>\n",
       "  </thead>\n",
       "  <tbody>\n",
       "    <tr>\n",
       "      <th>0</th>\n",
       "      <td>31477</td>\n",
       "      <td>34003</td>\n",
       "    </tr>\n",
       "    <tr>\n",
       "      <th>1</th>\n",
       "      <td>33063</td>\n",
       "      <td>33228</td>\n",
       "    </tr>\n",
       "    <tr>\n",
       "      <th>2</th>\n",
       "      <td>33130</td>\n",
       "      <td>33973</td>\n",
       "    </tr>\n",
       "    <tr>\n",
       "      <th>3</th>\n",
       "      <td>33268</td>\n",
       "      <td>33958</td>\n",
       "    </tr>\n",
       "    <tr>\n",
       "      <th>4</th>\n",
       "      <td>33268</td>\n",
       "      <td>34256</td>\n",
       "    </tr>\n",
       "  </tbody>\n",
       "</table>\n",
       "</div>"
      ],
      "text/plain": [
       "      v1     v2\n",
       "0  31477  34003\n",
       "1  33063  33228\n",
       "2  33130  33973\n",
       "3  33268  33958\n",
       "4  33268  34256"
      ]
     },
     "execution_count": 10,
     "metadata": {},
     "output_type": "execute_result"
    }
   ],
   "source": [
    "# Load dataset with vehicles no-colision\n",
    "#DATASET_NOCOL = os.path.join(DATASETS_FOLDER, \"no_collisions_1k.csv\",delimiter=';')\n",
    "df_nocol = pd.read_csv('no_collisions_5k.csv')\n",
    "df_nocol = df_nocol[['v1', 'v2']]\n",
    "df_nocol.head()"
   ]
  },
  {
   "cell_type": "code",
   "execution_count": 11,
   "metadata": {
    "colab": {
     "base_uri": "https://localhost:8080/",
     "height": 206
    },
    "id": "omIT5OZin_jg",
    "outputId": "17df0b1a-f2d2-4281-fb7e-d46f209b9dfd"
   },
   "outputs": [
    {
     "data": {
      "text/html": [
       "<div>\n",
       "<style scoped>\n",
       "    .dataframe tbody tr th:only-of-type {\n",
       "        vertical-align: middle;\n",
       "    }\n",
       "\n",
       "    .dataframe tbody tr th {\n",
       "        vertical-align: top;\n",
       "    }\n",
       "\n",
       "    .dataframe thead th {\n",
       "        text-align: right;\n",
       "    }\n",
       "</style>\n",
       "<table border=\"1\" class=\"dataframe\">\n",
       "  <thead>\n",
       "    <tr style=\"text-align: right;\">\n",
       "      <th></th>\n",
       "      <th>vehicle_id</th>\n",
       "      <th>length</th>\n",
       "      <th>width</th>\n",
       "    </tr>\n",
       "  </thead>\n",
       "  <tbody>\n",
       "    <tr>\n",
       "      <th>0</th>\n",
       "      <td>0</td>\n",
       "      <td>5.0</td>\n",
       "      <td>1.8</td>\n",
       "    </tr>\n",
       "    <tr>\n",
       "      <th>1</th>\n",
       "      <td>2</td>\n",
       "      <td>5.0</td>\n",
       "      <td>1.8</td>\n",
       "    </tr>\n",
       "    <tr>\n",
       "      <th>2</th>\n",
       "      <td>3</td>\n",
       "      <td>5.0</td>\n",
       "      <td>1.8</td>\n",
       "    </tr>\n",
       "    <tr>\n",
       "      <th>3</th>\n",
       "      <td>4</td>\n",
       "      <td>2.2</td>\n",
       "      <td>0.9</td>\n",
       "    </tr>\n",
       "    <tr>\n",
       "      <th>4</th>\n",
       "      <td>5</td>\n",
       "      <td>5.0</td>\n",
       "      <td>1.8</td>\n",
       "    </tr>\n",
       "  </tbody>\n",
       "</table>\n",
       "</div>"
      ],
      "text/plain": [
       "   vehicle_id  length  width\n",
       "0           0     5.0    1.8\n",
       "1           2     5.0    1.8\n",
       "2           3     5.0    1.8\n",
       "3           4     2.2    0.9\n",
       "4           5     5.0    1.8"
      ]
     },
     "execution_count": 11,
     "metadata": {},
     "output_type": "execute_result"
    }
   ],
   "source": [
    "# Load dataset with dimensions\n",
    "#DATASET_DIM = os.path.join(DATASETS_FOLDER, \"dimensions.csv\")\n",
    "df_dim = pd.read_csv('dimensions.csv')\n",
    "df_dim = df_dim[['vehicle_id', 'length', 'width']]\n",
    "df_dim.head()"
   ]
  },
  {
   "cell_type": "markdown",
   "metadata": {
    "id": "0vj8AdfmBkgB"
   },
   "source": [
    "# 2. Análisis exploratorio de los datos (EDA)"
   ]
  },
  {
   "cell_type": "code",
   "execution_count": 12,
   "metadata": {
    "colab": {
     "base_uri": "https://localhost:8080/"
    },
    "id": "tVCmVZR8BIZj",
    "outputId": "8129deac-5010-4ffd-c98c-94bf48d02bff"
   },
   "outputs": [
    {
     "name": "stdout",
     "output_type": "stream",
     "text": [
      "positions: (215846924, 11)\n",
      "Observations: 215846924\n",
      "Variables: 11\n",
      "Vehicles: 107476\n",
      "dimensions: (115536, 3)\n",
      "collisions: (914, 2)\n",
      "no_collisions: (914, 2)\n"
     ]
    }
   ],
   "source": [
    "# Dataset size\n",
    "print(\"positions:\", df.shape)\n",
    "print(\"Observations: {}\".format(df.shape[0]))\n",
    "print(\"Variables: {}\".format(df.shape[1]))\n",
    "print(\"Vehicles: {}\".format(len(df.vehicle_id.unique())))\n",
    "print(\"dimensions:\", df_dim.shape)\n",
    "print(\"collisions:\", df_col.shape)\n",
    "print(\"no_collisions:\", df_nocol.shape)"
   ]
  },
  {
   "cell_type": "code",
   "execution_count": 14,
   "metadata": {
    "colab": {
     "base_uri": "https://localhost:8080/",
     "height": 499
    },
    "id": "qfcL31zPeFvF",
    "outputId": "fa4d4961-6512-4170-d837-6c4cabbf143b"
   },
   "outputs": [
    {
     "data": {
      "image/png": "[encoded data removed]",
      "text/plain": [
       "<Figure size 1800x576 with 8 Axes>"
      ]
     },
     "metadata": {
      "needs_background": "light"
     },
     "output_type": "display_data"
    }
   ],
   "source": [
    "# Distributions of numerical attributes\n",
    "fig, ax = plt.subplots(nrows=2, ncols=4, figsize=(25,8))\n",
    "df.hist('time(s)', ax=ax[0][0])\n",
    "df.hist('vehicle_id', ax=ax[0][1])\n",
    "df.hist('victim_id', ax=ax[0][2])\n",
    "df.hist('latitude(m)', ax=ax[0][3])\n",
    "df.hist('longitude(m)', ax=ax[1][0])\n",
    "df.hist('speed(m/s)', ax=ax[1][1])\n",
    "df.hist('heading', ax=ax[1][2])\n",
    "df.hist('acceleration(m/s²)', ax=ax[1][3])\n",
    "plt.show()"
   ]
  },
  {
   "cell_type": "code",
   "execution_count": 19,
   "metadata": {},
   "outputs": [
    {
     "data": {
      "image/png": "[encoded data removed]",
      "text/plain": [
       "<Figure size 1800x576 with 1 Axes>"
      ]
     },
     "metadata": {
      "needs_background": "light"
     },
     "output_type": "display_data"
    },
    {
     "data": {
      "image/png": "[encoded data removed]",
      "text/plain": [
       "<Figure size 432x288 with 1 Axes>"
      ]
     },
     "metadata": {
      "needs_background": "light"
     },
     "output_type": "display_data"
    }
   ],
   "source": [
    "# Distributions of numerical attributes (individual)\n",
    "fig, ax = plt.subplots(nrows=1, ncols=1, figsize=(25,8))\n",
    "# df.hist('time(s)', ax=ax[0][0])\n",
    "# df.hist('vehicle_id', ax=ax[0][1])\n",
    "# df.hist('victim_id', ax=ax[0][2])\n",
    "df.hist('collision')\n",
    "# df.hist('longitude(m)', ax=ax[1][0])\n",
    "# df.hist('speed(m/s)', ax=ax[1][1])\n",
    "# df.hist('heading', ax=ax[1][2])\n",
    "# df.hist('acceleration(m/s²)', ax=ax[1][3])\n",
    "plt.show()"
   ]
  },
  {
   "cell_type": "code",
   "execution_count": 15,
   "metadata": {
    "colab": {
     "base_uri": "https://localhost:8080/"
    },
    "id": "Cx6eC52sbQdJ",
    "outputId": "79e7681e-1441-48fc-8ef9-4f1662de6fa2"
   },
   "outputs": [
    {
     "name": "stdout",
     "output_type": "stream",
     "text": [
      "time(s): [1.0, 360000.0]\n",
      "vehicle_id: [0, 127626]\n",
      "victim_id: [-1, 127593]\n",
      "latitude(m): [41.390741606618576, 41.40288846294933]\n",
      "longitude(m): [2.135959568514987, 2.1591370488173847]\n",
      "speed(m/s): [0.0, 19.8432928805958]\n",
      "heading: [2.0522439263279136e-05, 359.9999016095033]\n",
      "acceleration(m/s²): [-10.0, 5.999997826134736]\n"
     ]
    }
   ],
   "source": [
    "# Range of values\n",
    "print(\"time(s): [{}, {}]\".format(min(df['time(s)']), max(df['time(s)'])))\n",
    "print(\"vehicle_id: [{}, {}]\".format(min(df['vehicle_id']),\n",
    "                                    max(df['vehicle_id'])))\n",
    "print(\"victim_id: [{}, {}]\".format(min(df['victim_id']), max(df['victim_id'])))\n",
    "print(\"latitude(m): [{}, {}]\".format(min(df['latitude(m)']),\n",
    "                                     max(df['latitude(m)'])))\n",
    "print(\"longitude(m): [{}, {}]\".format(min(df['longitude(m)']),\n",
    "                                      max(df['longitude(m)'])))\n",
    "print(\"speed(m/s): [{}, {}]\".format(min(df['speed(m/s)']),\n",
    "                                    max(df['speed(m/s)'])))\n",
    "print(\"heading: [{}, {}]\".format(min(df['heading']), max(df['heading'])))\n",
    "print(\"acceleration(m/s²): [{}, {}]\".format(min(df['acceleration(m/s²)']),\n",
    "      max(df['acceleration(m/s²)'])))"
   ]
  },
  {
   "cell_type": "code",
   "execution_count": 16,
   "metadata": {
    "colab": {
     "base_uri": "https://localhost:8080/"
    },
    "id": "dKcclbJ2xkt6",
    "outputId": "c8c24fad-030c-46b9-ce96-a4427380481a"
   },
   "outputs": [
    {
     "name": "stdout",
     "output_type": "stream",
     "text": [
      "129461790\n",
      "126481622\n",
      "129461790\n"
     ]
    }
   ],
   "source": [
    "# Number of vehicles stopped or finishing braking\n",
    "print(len(df[df['speed(m/s)'] == 0]))\n",
    "print(len(df[df['acceleration(m/s²)'] == 0]))\n",
    "print(len(df[(df['speed(m/s)'] == 0) & (df['acceleration(m/s²)'] <= 0)]))"
   ]
  },
  {
   "cell_type": "code",
   "execution_count": 17,
   "metadata": {
    "colab": {
     "base_uri": "https://localhost:8080/",
     "height": 291
    },
    "id": "9IMAvCFLL1yM",
    "outputId": "786dec16-59f2-497e-bfe9-6df85826f57c"
   },
   "outputs": [
    {
     "data": {
      "image/png": "[encoded data removed]",
      "text/plain": [
       "<Figure size 1800x288 with 3 Axes>"
      ]
     },
     "metadata": {
      "needs_background": "light"
     },
     "output_type": "display_data"
    }
   ],
   "source": [
    "# Distributions of categorical attributes\n",
    "fig, ax = plt.subplots(nrows=1, ncols=3, figsize=(25,4))\n",
    "df['shape_collider'].value_counts().plot(kind='bar', rot=0,\n",
    "                                         xlabel='shape_collider', ax=ax[0])\n",
    "df['shape_victim'].value_counts().plot(kind='bar', rot=0, xlabel='shape_victim',\n",
    "                                       ax=ax[1])\n",
    "df['collision'].value_counts().plot(kind='bar', rot=0, xlabel='collision',\n",
    "                                    ax=ax[2])\n",
    "plt.show()"
   ]
  },
  {
   "cell_type": "code",
   "execution_count": 18,
   "metadata": {
    "colab": {
     "base_uri": "https://localhost:8080/"
    },
    "id": "QI5ry3FTh3BF",
    "outputId": "04541318-daed-4cb0-dae0-9aa97c58725f"
   },
   "outputs": [
    {
     "name": "stdout",
     "output_type": "stream",
     "text": [
      "shape_collider\n",
      "--------------\n",
      "passenger     76486136\n",
      "delivery      68143858\n",
      "motorcycle    35238179\n",
      "moped         27725665\n",
      "bus            8253086\n",
      "Name: shape_collider, dtype: int64\n",
      "\n",
      "shape_victim\n",
      "------------\n",
      "-1            215476053\n",
      "-1               327680\n",
      "delivery          16562\n",
      "passenger         15260\n",
      "motorcycle         4281\n",
      "moped              4005\n",
      "bus                3083\n",
      "Name: shape_victim, dtype: int64\n",
      "\n",
      "collision\n",
      "---------\n",
      "0    215803733\n",
      "1        43191\n",
      "Name: collision, dtype: int64\n"
     ]
    }
   ],
   "source": [
    "# Categories counter\n",
    "print(\"shape_collider\\n--------------\")\n",
    "print(df['shape_collider'].value_counts())\n",
    "print(\"\\nshape_victim\\n------------\")\n",
    "print(df['shape_victim'].value_counts())\n",
    "print(\"\\ncollision\\n---------\")\n",
    "print(df['collision'].value_counts())"
   ]
  },
  {
   "cell_type": "code",
   "execution_count": 19,
   "metadata": {
    "colab": {
     "base_uri": "https://localhost:8080/",
     "height": 300
    },
    "id": "NG8wxqlg3LyZ",
    "outputId": "6e2d4471-11c3-4516-b412-13fd29aac437"
   },
   "outputs": [
    {
     "data": {
      "text/html": [
       "<div>\n",
       "<style scoped>\n",
       "    .dataframe tbody tr th:only-of-type {\n",
       "        vertical-align: middle;\n",
       "    }\n",
       "\n",
       "    .dataframe tbody tr th {\n",
       "        vertical-align: top;\n",
       "    }\n",
       "\n",
       "    .dataframe thead th {\n",
       "        text-align: right;\n",
       "    }\n",
       "</style>\n",
       "<table border=\"1\" class=\"dataframe\">\n",
       "  <thead>\n",
       "    <tr style=\"text-align: right;\">\n",
       "      <th></th>\n",
       "      <th>time(s)</th>\n",
       "      <th>vehicle_id</th>\n",
       "      <th>victim_id</th>\n",
       "      <th>latitude(m)</th>\n",
       "      <th>longitude(m)</th>\n",
       "      <th>speed(m/s)</th>\n",
       "      <th>heading</th>\n",
       "      <th>acceleration(m/s²)</th>\n",
       "      <th>collision</th>\n",
       "    </tr>\n",
       "  </thead>\n",
       "  <tbody>\n",
       "    <tr>\n",
       "      <th>count</th>\n",
       "      <td>2.158469e+08</td>\n",
       "      <td>2.158469e+08</td>\n",
       "      <td>2.158469e+08</td>\n",
       "      <td>2.158469e+08</td>\n",
       "      <td>2.158469e+08</td>\n",
       "      <td>2.158469e+08</td>\n",
       "      <td>2.158469e+08</td>\n",
       "      <td>2.158469e+08</td>\n",
       "      <td>2.158469e+08</td>\n",
       "    </tr>\n",
       "    <tr>\n",
       "      <th>mean</th>\n",
       "      <td>1.800255e+05</td>\n",
       "      <td>6.750152e+04</td>\n",
       "      <td>1.258005e+01</td>\n",
       "      <td>4.139620e+01</td>\n",
       "      <td>2.150885e+00</td>\n",
       "      <td>2.096001e+00</td>\n",
       "      <td>1.777020e+02</td>\n",
       "      <td>3.147619e-03</td>\n",
       "      <td>2.001001e-04</td>\n",
       "    </tr>\n",
       "    <tr>\n",
       "      <th>std</th>\n",
       "      <td>1.039084e+05</td>\n",
       "      <td>3.427852e+04</td>\n",
       "      <td>1.075292e+03</td>\n",
       "      <td>2.141778e-03</td>\n",
       "      <td>3.290768e-03</td>\n",
       "      <td>3.833068e+00</td>\n",
       "      <td>9.416371e+01</td>\n",
       "      <td>9.217062e-01</td>\n",
       "      <td>1.414426e-02</td>\n",
       "    </tr>\n",
       "    <tr>\n",
       "      <th>min</th>\n",
       "      <td>1.000000e+00</td>\n",
       "      <td>0.000000e+00</td>\n",
       "      <td>-1.000000e+00</td>\n",
       "      <td>4.139074e+01</td>\n",
       "      <td>2.135960e+00</td>\n",
       "      <td>0.000000e+00</td>\n",
       "      <td>2.052244e-05</td>\n",
       "      <td>-1.000000e+01</td>\n",
       "      <td>0.000000e+00</td>\n",
       "    </tr>\n",
       "    <tr>\n",
       "      <th>25%</th>\n",
       "      <td>9.003800e+04</td>\n",
       "      <td>3.758700e+04</td>\n",
       "      <td>-1.000000e+00</td>\n",
       "      <td>4.139456e+01</td>\n",
       "      <td>2.149098e+00</td>\n",
       "      <td>0.000000e+00</td>\n",
       "      <td>1.319444e+02</td>\n",
       "      <td>0.000000e+00</td>\n",
       "      <td>0.000000e+00</td>\n",
       "    </tr>\n",
       "    <tr>\n",
       "      <th>50%</th>\n",
       "      <td>1.800250e+05</td>\n",
       "      <td>6.737600e+04</td>\n",
       "      <td>-1.000000e+00</td>\n",
       "      <td>4.139587e+01</td>\n",
       "      <td>2.151333e+00</td>\n",
       "      <td>0.000000e+00</td>\n",
       "      <td>1.416192e+02</td>\n",
       "      <td>0.000000e+00</td>\n",
       "      <td>0.000000e+00</td>\n",
       "    </tr>\n",
       "    <tr>\n",
       "      <th>75%</th>\n",
       "      <td>2.700130e+05</td>\n",
       "      <td>9.703700e+04</td>\n",
       "      <td>-1.000000e+00</td>\n",
       "      <td>4.139753e+01</td>\n",
       "      <td>2.153252e+00</td>\n",
       "      <td>2.405017e+00</td>\n",
       "      <td>2.518762e+02</td>\n",
       "      <td>0.000000e+00</td>\n",
       "      <td>0.000000e+00</td>\n",
       "    </tr>\n",
       "    <tr>\n",
       "      <th>max</th>\n",
       "      <td>3.600000e+05</td>\n",
       "      <td>1.276260e+05</td>\n",
       "      <td>1.275930e+05</td>\n",
       "      <td>4.140289e+01</td>\n",
       "      <td>2.159137e+00</td>\n",
       "      <td>1.984329e+01</td>\n",
       "      <td>3.599999e+02</td>\n",
       "      <td>5.999998e+00</td>\n",
       "      <td>1.000000e+00</td>\n",
       "    </tr>\n",
       "  </tbody>\n",
       "</table>\n",
       "</div>"
      ],
      "text/plain": [
       "            time(s)    vehicle_id     victim_id   latitude(m)  longitude(m)  \\\n",
       "count  2.158469e+08  2.158469e+08  2.158469e+08  2.158469e+08  2.158469e+08   \n",
       "mean   1.800255e+05  6.750152e+04  1.258005e+01  4.139620e+01  2.150885e+00   \n",
       "std    1.039084e+05  3.427852e+04  1.075292e+03  2.141778e-03  3.290768e-03   \n",
       "min    1.000000e+00  0.000000e+00 -1.000000e+00  4.139074e+01  2.135960e+00   \n",
       "25%    9.003800e+04  3.758700e+04 -1.000000e+00  4.139456e+01  2.149098e+00   \n",
       "50%    1.800250e+05  6.737600e+04 -1.000000e+00  4.139587e+01  2.151333e+00   \n",
       "75%    2.700130e+05  9.703700e+04 -1.000000e+00  4.139753e+01  2.153252e+00   \n",
       "max    3.600000e+05  1.276260e+05  1.275930e+05  4.140289e+01  2.159137e+00   \n",
       "\n",
       "         speed(m/s)       heading  acceleration(m/s²)     collision  \n",
       "count  2.158469e+08  2.158469e+08        2.158469e+08  2.158469e+08  \n",
       "mean   2.096001e+00  1.777020e+02        3.147619e-03  2.001001e-04  \n",
       "std    3.833068e+00  9.416371e+01        9.217062e-01  1.414426e-02  \n",
       "min    0.000000e+00  2.052244e-05       -1.000000e+01  0.000000e+00  \n",
       "25%    0.000000e+00  1.319444e+02        0.000000e+00  0.000000e+00  \n",
       "50%    0.000000e+00  1.416192e+02        0.000000e+00  0.000000e+00  \n",
       "75%    2.405017e+00  2.518762e+02        0.000000e+00  0.000000e+00  \n",
       "max    1.984329e+01  3.599999e+02        5.999998e+00  1.000000e+00  "
      ]
     },
     "execution_count": 19,
     "metadata": {},
     "output_type": "execute_result"
    }
   ],
   "source": [
    "df.describe()"
   ]
  },
  {
   "cell_type": "code",
   "execution_count": 20,
   "metadata": {
    "colab": {
     "base_uri": "https://localhost:8080/",
     "height": 265
    },
    "id": "ZjW54IBPpw33",
    "outputId": "e27f41ce-e24a-4835-85f8-d8367476a986"
   },
   "outputs": [
    {
     "data": {
      "image/png": "[encoded data removed]",
      "text/plain": [
       "<Figure size 432x288 with 1 Axes>"
      ]
     },
     "metadata": {
      "needs_background": "light"
     },
     "output_type": "display_data"
    }
   ],
   "source": [
    "# Map of coordinates\n",
    "fig, ax = plt.subplots(1, 1)\n",
    "plt.plot(df['longitude(m)'], df['latitude(m)'], 'bo')\n",
    "plt.show()"
   ]
  },
  {
   "cell_type": "code",
   "execution_count": 21,
   "metadata": {
    "colab": {
     "base_uri": "https://localhost:8080/",
     "height": 237
    },
    "id": "0DN6aKLPBv7E",
    "outputId": "13608ce2-72dc-40fe-8c62-1e1475b547ba"
   },
   "outputs": [
    {
     "data": {
      "text/html": [
       "<div>\n",
       "<style scoped>\n",
       "    .dataframe tbody tr th:only-of-type {\n",
       "        vertical-align: middle;\n",
       "    }\n",
       "\n",
       "    .dataframe tbody tr th {\n",
       "        vertical-align: top;\n",
       "    }\n",
       "\n",
       "    .dataframe thead th {\n",
       "        text-align: right;\n",
       "    }\n",
       "</style>\n",
       "<table border=\"1\" class=\"dataframe\">\n",
       "  <thead>\n",
       "    <tr style=\"text-align: right;\">\n",
       "      <th></th>\n",
       "      <th>seconds</th>\n",
       "    </tr>\n",
       "    <tr>\n",
       "      <th>vehicle_id</th>\n",
       "      <th></th>\n",
       "    </tr>\n",
       "  </thead>\n",
       "  <tbody>\n",
       "    <tr>\n",
       "      <th>0</th>\n",
       "      <td>9092</td>\n",
       "    </tr>\n",
       "    <tr>\n",
       "      <th>21</th>\n",
       "      <td>9568</td>\n",
       "    </tr>\n",
       "    <tr>\n",
       "      <th>24</th>\n",
       "      <td>1549</td>\n",
       "    </tr>\n",
       "    <tr>\n",
       "      <th>26</th>\n",
       "      <td>1098</td>\n",
       "    </tr>\n",
       "    <tr>\n",
       "      <th>28</th>\n",
       "      <td>4442</td>\n",
       "    </tr>\n",
       "  </tbody>\n",
       "</table>\n",
       "</div>"
      ],
      "text/plain": [
       "            seconds\n",
       "vehicle_id         \n",
       "0              9092\n",
       "21             9568\n",
       "24             1549\n",
       "26             1098\n",
       "28             4442"
      ]
     },
     "execution_count": 21,
     "metadata": {},
     "output_type": "execute_result"
    }
   ],
   "source": [
    "# Count time registered per vehicle\n",
    "df_vehicle_time = (df[['time(s)', 'vehicle_id']].groupby(['vehicle_id']).count()\n",
    "                   .rename(columns={'time(s)': 'seconds'}))\n",
    "df_vehicle_time.head()"
   ]
  },
  {
   "cell_type": "code",
   "execution_count": 22,
   "metadata": {
    "colab": {
     "base_uri": "https://localhost:8080/"
    },
    "id": "ty7tMHJ6no4v",
    "outputId": "9e56bcba-00b0-4a56-8b49-16e38f54880d"
   },
   "outputs": [
    {
     "data": {
      "text/plain": [
       "count    107476.000000\n",
       "mean       2008.326733\n",
       "std        2215.395114\n",
       "min           3.000000\n",
       "25%         341.000000\n",
       "50%        1222.000000\n",
       "75%        2949.000000\n",
       "max       19850.000000\n",
       "Name: seconds, dtype: float64"
      ]
     },
     "execution_count": 22,
     "metadata": {},
     "output_type": "execute_result"
    }
   ],
   "source": [
    "df_vehicle_time['seconds'].describe()"
   ]
  }
 ],
 "metadata": {
  "colab": {
   "provenance": []
  },
  "kernelspec": {
   "display_name": "Python 3",
   "language": "python",
   "name": "python3"
  },
  "language_info": {
   "codemirror_mode": {
    "name": "ipython",
    "version": 3
   },
   "file_extension": ".py",
   "mimetype": "text/x-python",
   "name": "python",
   "nbconvert_exporter": "python",
   "pygments_lexer": "ipython3",
   "version": "3.8.8"
  }
 },
 "nbformat": 4,
 "nbformat_minor": 1
}
