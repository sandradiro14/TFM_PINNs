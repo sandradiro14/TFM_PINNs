{
 "cells": [
  {
   "cell_type": "markdown",
   "metadata": {
    "id": "W9TGJ8Tr4IBN"
   },
   "source": [
    "# 1. Importación de librerías y carga de datos"
   ]
  },
  {
   "cell_type": "code",
   "execution_count": 1,
   "metadata": {
    "colab": {
     "base_uri": "https://localhost:8080/"
    },
    "id": "DHVFGrMz11d-",
    "outputId": "69ed8ab1-1aae-4f74-ca90-a6a3bf6bf300"
   },
   "outputs": [
    {
     "name": "stdout",
     "output_type": "stream",
     "text": [
      "Requirement already satisfied: codecarbon in c:\\users\\sandr\\anaconda3\\lib\\site-packages (2.3.4)\n",
      "Requirement already satisfied: psutil in c:\\users\\sandr\\anaconda3\\lib\\site-packages (from codecarbon) (5.8.0)\n",
      "Requirement already satisfied: rapidfuzz in c:\\users\\sandr\\anaconda3\\lib\\site-packages (from codecarbon) (3.6.2)\n",
      "Requirement already satisfied: prometheus-client in c:\\users\\sandr\\anaconda3\\lib\\site-packages (from codecarbon) (0.10.1)\n",
      "Requirement already satisfied: pynvml in c:\\users\\sandr\\anaconda3\\lib\\site-packages (from codecarbon) (11.5.0)\n",
      "Requirement already satisfied: click in c:\\users\\sandr\\anaconda3\\lib\\site-packages (from codecarbon) (7.1.2)\n",
      "Requirement already satisfied: arrow in c:\\users\\sandr\\anaconda3\\lib\\site-packages (from codecarbon) (1.3.0)\n",
      "Requirement already satisfied: pandas in c:\\users\\sandr\\anaconda3\\lib\\site-packages (from codecarbon) (1.2.4)\n",
      "Requirement already satisfied: py-cpuinfo in c:\\users\\sandr\\anaconda3\\lib\\site-packages (from codecarbon) (9.0.0)\n",
      "Requirement already satisfied: requests in c:\\users\\sandr\\anaconda3\\lib\\site-packages (from codecarbon) (2.25.1)\n",
      "Requirement already satisfied: python-dateutil>=2.7.0 in c:\\users\\sandr\\appdata\\roaming\\python\\python38\\site-packages (from arrow->codecarbon) (2.8.2)\n",
      "Requirement already satisfied: types-python-dateutil>=2.8.10 in c:\\users\\sandr\\anaconda3\\lib\\site-packages (from arrow->codecarbon) (2.9.0.20240316)\n",
      "Requirement already satisfied: six>=1.5 in c:\\users\\sandr\\anaconda3\\lib\\site-packages (from python-dateutil>=2.7.0->arrow->codecarbon) (1.16.0)\n",
      "Requirement already satisfied: pytz>=2017.3 in c:\\users\\sandr\\anaconda3\\lib\\site-packages (from pandas->codecarbon) (2021.1)\n",
      "Requirement already satisfied: numpy>=1.16.5 in c:\\users\\sandr\\appdata\\roaming\\python\\python38\\site-packages (from pandas->codecarbon) (1.23.1)\n",
      "Requirement already satisfied: urllib3<1.27,>=1.21.1 in c:\\users\\sandr\\anaconda3\\lib\\site-packages (from requests->codecarbon) (1.26.4)\n",
      "Requirement already satisfied: certifi>=2017.4.17 in c:\\users\\sandr\\anaconda3\\lib\\site-packages (from requests->codecarbon) (2020.12.5)\n",
      "Requirement already satisfied: chardet<5,>=3.0.2 in c:\\users\\sandr\\anaconda3\\lib\\site-packages (from requests->codecarbon) (4.0.0)\n",
      "Requirement already satisfied: idna<3,>=2.5 in c:\\users\\sandr\\anaconda3\\lib\\site-packages (from requests->codecarbon) (2.10)\n"
     ]
    }
   ],
   "source": [
    "!pip install codecarbon"
   ]
  },
  {
   "cell_type": "code",
   "execution_count": 2,
   "metadata": {
    "id": "GIG5_asbnMfv"
   },
   "outputs": [],
   "source": [
    "#from google.colab import drive\n",
    "\n",
    "import tensorflow as tf\n",
    "import pandas as pd\n",
    "import numpy as np\n",
    "import pickle\n",
    "import random\n",
    "import scipy\n",
    "import time\n",
    "import os\n",
    "\n",
    "from shapely import geometry\n",
    "import geopy\n",
    "import geopy.distance\n",
    "import math\n",
    "\n",
    "import matplotlib.pyplot as plt\n",
    "\n",
    "from codecarbon import EmissionsTracker\n",
    "\n",
    "import warnings\n",
    "warnings.filterwarnings('ignore')"
   ]
  },
  {
   "cell_type": "code",
   "execution_count": 3,
   "metadata": {
    "id": "RSGMAKCXP5Tw"
   },
   "outputs": [],
   "source": [
    "tf.keras.backend.set_floatx('float64')"
   ]
  },
  {
   "cell_type": "code",
   "execution_count": 4,
   "metadata": {
    "colab": {
     "base_uri": "https://localhost:8080/"
    },
    "id": "wjsPEeBDnOBV",
    "outputId": "f6f0c0d6-88e3-4a75-dbe1-37916f031f14"
   },
   "outputs": [],
   "source": [
    "# drive.mount('/content/drive', force_remount=True)\n",
    "# %cd /content/drive/MyDrive"
   ]
  },
  {
   "cell_type": "code",
   "execution_count": 5,
   "metadata": {
    "colab": {
     "base_uri": "https://localhost:8080/",
     "height": 206
    },
    "id": "IxSqn8_Q50zt",
    "outputId": "dc7ba9de-cb7c-46d0-f3c7-97f7ee069608"
   },
   "outputs": [
    {
     "data": {
      "text/html": [
       "<div>\n",
       "<style scoped>\n",
       "    .dataframe tbody tr th:only-of-type {\n",
       "        vertical-align: middle;\n",
       "    }\n",
       "\n",
       "    .dataframe tbody tr th {\n",
       "        vertical-align: top;\n",
       "    }\n",
       "\n",
       "    .dataframe thead th {\n",
       "        text-align: right;\n",
       "    }\n",
       "</style>\n",
       "<table border=\"1\" class=\"dataframe\">\n",
       "  <thead>\n",
       "    <tr style=\"text-align: right;\">\n",
       "      <th></th>\n",
       "      <th>time(s)</th>\n",
       "      <th>vehicle_id</th>\n",
       "      <th>latitude(m)</th>\n",
       "      <th>longitude(m)</th>\n",
       "      <th>heading</th>\n",
       "    </tr>\n",
       "  </thead>\n",
       "  <tbody>\n",
       "    <tr>\n",
       "      <th>1063</th>\n",
       "      <td>11.0</td>\n",
       "      <td>2</td>\n",
       "      <td>41.391721</td>\n",
       "      <td>2.162130</td>\n",
       "      <td>43.871783</td>\n",
       "    </tr>\n",
       "    <tr>\n",
       "      <th>1168</th>\n",
       "      <td>12.0</td>\n",
       "      <td>2</td>\n",
       "      <td>41.391790</td>\n",
       "      <td>2.162216</td>\n",
       "      <td>43.871783</td>\n",
       "    </tr>\n",
       "    <tr>\n",
       "      <th>1273</th>\n",
       "      <td>13.0</td>\n",
       "      <td>2</td>\n",
       "      <td>41.391775</td>\n",
       "      <td>2.162315</td>\n",
       "      <td>124.611142</td>\n",
       "    </tr>\n",
       "    <tr>\n",
       "      <th>1378</th>\n",
       "      <td>14.0</td>\n",
       "      <td>2</td>\n",
       "      <td>41.391727</td>\n",
       "      <td>2.162396</td>\n",
       "      <td>131.690664</td>\n",
       "    </tr>\n",
       "    <tr>\n",
       "      <th>1483</th>\n",
       "      <td>15.0</td>\n",
       "      <td>2</td>\n",
       "      <td>41.391681</td>\n",
       "      <td>2.162464</td>\n",
       "      <td>133.978174</td>\n",
       "    </tr>\n",
       "  </tbody>\n",
       "</table>\n",
       "</div>"
      ],
      "text/plain": [
       "      time(s)  vehicle_id  latitude(m)  longitude(m)     heading\n",
       "1063     11.0           2    41.391721      2.162130   43.871783\n",
       "1168     12.0           2    41.391790      2.162216   43.871783\n",
       "1273     13.0           2    41.391775      2.162315  124.611142\n",
       "1378     14.0           2    41.391727      2.162396  131.690664\n",
       "1483     15.0           2    41.391681      2.162464  133.978174"
      ]
     },
     "execution_count": 5,
     "metadata": {},
     "output_type": "execute_result"
    }
   ],
   "source": [
    "#DATASETS_FOLDER = os.path.join(\"TFM\", \"implementation\", \"datasets\")\n",
    "#POSITIONS_FILE = os.path.join(DATASETS_FOLDER, \"positions.csv\")\n",
    "df = pd.read_csv('positions.csv')\n",
    "\n",
    "columns = ['time(s)', 'vehicle_id', 'latitude(m)', 'longitude(m)', 'heading']\n",
    "df = df[columns]\n",
    "df = df.sort_values(by=['vehicle_id', 'time(s)'])\n",
    "df.head()"
   ]
  },
  {
   "cell_type": "code",
   "execution_count": 6,
   "metadata": {
    "id": "yvRZ-pw4qfrV"
   },
   "outputs": [],
   "source": [
    "# Load fitted model\n",
    "MODEL_FOLDER = './simple/GRU_32units/'#os.path.join(\"TFM\", \"implementation\", \"models\", \"scaled\",\n",
    "                            #\"simple\", \"LSTM_64units\")\n",
    "MODEL_FILE = MODEL_FOLDER + \"model_saved.hdf5\"#os.path.join(MODEL_FOLDER, \"model_saved.hdf5\")\n",
    "model = tf.keras.models.load_model(MODEL_FILE)"
   ]
  },
  {
   "cell_type": "code",
   "execution_count": 7,
   "metadata": {
    "colab": {
     "base_uri": "https://localhost:8080/"
    },
    "id": "UKbl8O-6q1W4",
    "outputId": "5b29b04e-cdf3-432f-9c38-94f61ca67462"
   },
   "outputs": [
    {
     "name": "stdout",
     "output_type": "stream",
     "text": [
      "X_test: (3001, 20, 3)  y_test: (3001, 5, 3)\n",
      "Vehicle_ids: 3001\n"
     ]
    }
   ],
   "source": [
    "# Load testing data\n",
    "DATASET_TEST = \"./ventanas_no_coincidentes_test_scaled.npz\"#os.path.join(DATASETS_FOLDER,\n",
    "                            #\"ventanas_no_coincidentes_test_scaled.npz\")\n",
    "\n",
    "npzfile = np.load(DATASET_TEST)\n",
    "X_test = npzfile['X_test']\n",
    "y_test = npzfile['y_test']\n",
    "print(\"X_test: {}  y_test: {}\".format(X_test.shape, y_test.shape))\n",
    "\n",
    "# Load testing vehicle ids list\n",
    "VEHICLE_IDS_FILE = './vehicle_ids.pkl'#os.path.join(DATASETS_FOLDER, \"vehicle_ids.pkl\")\n",
    "with open(VEHICLE_IDS_FILE, 'rb') as f_vehicle_ids:\n",
    "    vehicle_ids = pickle.load(f_vehicle_ids)\n",
    "print(\"Vehicle_ids: {}\".format(len(vehicle_ids)))"
   ]
  },
  {
   "cell_type": "code",
   "execution_count": 8,
   "metadata": {
    "id": "gyLGkQCNrqkB"
   },
   "outputs": [],
   "source": [
    "# Load MinMaxScaler for target variables\n",
    "MINMAXSCALER_FILE = './minmaxscaler.pkl'#os.path.join(\"TFM\", \"implementation\",\"data_preparation\", \"minmaxscaler.pkl\")\n",
    "with open(MINMAXSCALER_FILE, 'rb') as f_minmaxscaler:\n",
    "    minmaxscaler = pickle.load(f_minmaxscaler)"
   ]
  },
  {
   "cell_type": "code",
   "execution_count": 9,
   "metadata": {
    "colab": {
     "base_uri": "https://localhost:8080/",
     "height": 206
    },
    "id": "TCbub7-hjnzp",
    "outputId": "972e42c2-abc6-40ea-f229-5a181dc6240c"
   },
   "outputs": [
    {
     "data": {
      "text/html": [
       "<div>\n",
       "<style scoped>\n",
       "    .dataframe tbody tr th:only-of-type {\n",
       "        vertical-align: middle;\n",
       "    }\n",
       "\n",
       "    .dataframe tbody tr th {\n",
       "        vertical-align: top;\n",
       "    }\n",
       "\n",
       "    .dataframe thead th {\n",
       "        text-align: right;\n",
       "    }\n",
       "</style>\n",
       "<table border=\"1\" class=\"dataframe\">\n",
       "  <thead>\n",
       "    <tr style=\"text-align: right;\">\n",
       "      <th></th>\n",
       "      <th>vehicle_id</th>\n",
       "      <th>length</th>\n",
       "      <th>width</th>\n",
       "    </tr>\n",
       "  </thead>\n",
       "  <tbody>\n",
       "    <tr>\n",
       "      <th>0</th>\n",
       "      <td>2</td>\n",
       "      <td>5.0</td>\n",
       "      <td>1.8</td>\n",
       "    </tr>\n",
       "    <tr>\n",
       "      <th>1</th>\n",
       "      <td>3</td>\n",
       "      <td>5.0</td>\n",
       "      <td>1.8</td>\n",
       "    </tr>\n",
       "    <tr>\n",
       "      <th>2</th>\n",
       "      <td>4</td>\n",
       "      <td>2.2</td>\n",
       "      <td>0.9</td>\n",
       "    </tr>\n",
       "    <tr>\n",
       "      <th>3</th>\n",
       "      <td>5</td>\n",
       "      <td>5.0</td>\n",
       "      <td>1.8</td>\n",
       "    </tr>\n",
       "    <tr>\n",
       "      <th>4</th>\n",
       "      <td>6</td>\n",
       "      <td>5.0</td>\n",
       "      <td>1.8</td>\n",
       "    </tr>\n",
       "  </tbody>\n",
       "</table>\n",
       "</div>"
      ],
      "text/plain": [
       "   vehicle_id  length  width\n",
       "0           2     5.0    1.8\n",
       "1           3     5.0    1.8\n",
       "2           4     2.2    0.9\n",
       "3           5     5.0    1.8\n",
       "4           6     5.0    1.8"
      ]
     },
     "execution_count": 9,
     "metadata": {},
     "output_type": "execute_result"
    }
   ],
   "source": [
    "# Load dataset with vehicles dimensions\n",
    "DATASET_DIM = './dimensions.csv'#os.path.join(DATASETS_FOLDER, \"dimensions.csv\")\n",
    "df_dim = pd.read_csv(DATASET_DIM)\n",
    "df_dim = df_dim[['vehicle_id', 'length', 'width']]\n",
    "df_dim.head()"
   ]
  },
  {
   "cell_type": "code",
   "execution_count": 12,
   "metadata": {
    "colab": {
     "base_uri": "https://localhost:8080/",
     "height": 206
    },
    "id": "AnJOyIkcjv_5",
    "outputId": "04462c3f-80fb-4d62-df76-5949b3ac79b8"
   },
   "outputs": [
    {
     "data": {
      "text/html": [
       "<div>\n",
       "<style scoped>\n",
       "    .dataframe tbody tr th:only-of-type {\n",
       "        vertical-align: middle;\n",
       "    }\n",
       "\n",
       "    .dataframe tbody tr th {\n",
       "        vertical-align: top;\n",
       "    }\n",
       "\n",
       "    .dataframe thead th {\n",
       "        text-align: right;\n",
       "    }\n",
       "</style>\n",
       "<table border=\"1\" class=\"dataframe\">\n",
       "  <thead>\n",
       "    <tr style=\"text-align: right;\">\n",
       "      <th></th>\n",
       "      <th>vehicle_id</th>\n",
       "      <th>victim_id</th>\n",
       "    </tr>\n",
       "  </thead>\n",
       "  <tbody>\n",
       "    <tr>\n",
       "      <th>0</th>\n",
       "      <td>121</td>\n",
       "      <td>103</td>\n",
       "    </tr>\n",
       "    <tr>\n",
       "      <th>1</th>\n",
       "      <td>158</td>\n",
       "      <td>113</td>\n",
       "    </tr>\n",
       "    <tr>\n",
       "      <th>2</th>\n",
       "      <td>197</td>\n",
       "      <td>165</td>\n",
       "    </tr>\n",
       "    <tr>\n",
       "      <th>3</th>\n",
       "      <td>193</td>\n",
       "      <td>230</td>\n",
       "    </tr>\n",
       "    <tr>\n",
       "      <th>4</th>\n",
       "      <td>207</td>\n",
       "      <td>122</td>\n",
       "    </tr>\n",
       "  </tbody>\n",
       "</table>\n",
       "</div>"
      ],
      "text/plain": [
       "   vehicle_id  victim_id\n",
       "0         121        103\n",
       "1         158        113\n",
       "2         197        165\n",
       "3         193        230\n",
       "4         207        122"
      ]
     },
     "execution_count": 12,
     "metadata": {},
     "output_type": "execute_result"
    }
   ],
   "source": [
    "# Load dataset with vehicles colision\n",
    "DATASET_COL = './collisions_1k.csv'#os.path.join(DATASETS_FOLDER, \"collisions_1k.csv\")\n",
    "df_col = pd.read_csv(DATASET_COL, delimiter=';')\n",
    "df_col = df_col[['vehicle_id', 'victim_id']].astype(int)\n",
    "df_col.head()"
   ]
  },
  {
   "cell_type": "code",
   "execution_count": 13,
   "metadata": {
    "colab": {
     "base_uri": "https://localhost:8080/",
     "height": 206
    },
    "id": "12mhfvdfjzhr",
    "outputId": "01b64600-5507-4f12-cc30-7125abb7122f"
   },
   "outputs": [
    {
     "data": {
      "text/html": [
       "<div>\n",
       "<style scoped>\n",
       "    .dataframe tbody tr th:only-of-type {\n",
       "        vertical-align: middle;\n",
       "    }\n",
       "\n",
       "    .dataframe tbody tr th {\n",
       "        vertical-align: top;\n",
       "    }\n",
       "\n",
       "    .dataframe thead th {\n",
       "        text-align: right;\n",
       "    }\n",
       "</style>\n",
       "<table border=\"1\" class=\"dataframe\">\n",
       "  <thead>\n",
       "    <tr style=\"text-align: right;\">\n",
       "      <th></th>\n",
       "      <th>v1</th>\n",
       "      <th>v2</th>\n",
       "    </tr>\n",
       "  </thead>\n",
       "  <tbody>\n",
       "    <tr>\n",
       "      <th>0</th>\n",
       "      <td>800</td>\n",
       "      <td>770</td>\n",
       "    </tr>\n",
       "    <tr>\n",
       "      <th>1</th>\n",
       "      <td>4115</td>\n",
       "      <td>4132</td>\n",
       "    </tr>\n",
       "    <tr>\n",
       "      <th>2</th>\n",
       "      <td>2054</td>\n",
       "      <td>2006</td>\n",
       "    </tr>\n",
       "    <tr>\n",
       "      <th>3</th>\n",
       "      <td>736</td>\n",
       "      <td>782</td>\n",
       "    </tr>\n",
       "    <tr>\n",
       "      <th>4</th>\n",
       "      <td>1291</td>\n",
       "      <td>1262</td>\n",
       "    </tr>\n",
       "  </tbody>\n",
       "</table>\n",
       "</div>"
      ],
      "text/plain": [
       "     v1    v2\n",
       "0   800   770\n",
       "1  4115  4132\n",
       "2  2054  2006\n",
       "3   736   782\n",
       "4  1291  1262"
      ]
     },
     "execution_count": 13,
     "metadata": {},
     "output_type": "execute_result"
    }
   ],
   "source": [
    "# Load dataset with vehicles no-colision\n",
    "DATASET_NOCOL = './no_collisions_1k.csv'#os.path.join(DATASETS_FOLDER, \"no_collisions_1k.csv\")\n",
    "df_nocol = pd.read_csv(DATASET_NOCOL, delimiter=';')\n",
    "df_nocol = df_nocol[['v1', 'v2']]\n",
    "df_nocol.head()"
   ]
  },
  {
   "cell_type": "markdown",
   "metadata": {
    "id": "eR2cpUKJkgoM"
   },
   "source": [
    "# 2. Cálculo de la probabilidad de colisión"
   ]
  },
  {
   "cell_type": "code",
   "execution_count": 14,
   "metadata": {
    "id": "jyRpmOwh9VqT"
   },
   "outputs": [],
   "source": [
    "# To get a rotated rectangle at a bearing, you need to get the points of the the recatangle at that bearing\n",
    "def get_rotated_points(coordinates, bearing, width, length):\n",
    "    start = geopy.Point(coordinates)\n",
    "    width = width/1000\n",
    "    length = length/1000\n",
    "    rectlength = geopy.distance.distance(kilometers=length)\n",
    "    rectwidth = geopy.distance.distance(kilometers=width)\n",
    "    halfwidth = geopy.distance.distance(kilometers=width/2)\n",
    "    halflength = geopy.distance.distance(kilometers=length/2)\n",
    "\n",
    "    pointAB = halflength.destination(point=start, bearing=bearing)\n",
    "    pointA = halfwidth.destination(point=pointAB, bearing=0 - bearing)\n",
    "    pointB = rectwidth.destination(point=pointA, bearing=180 - bearing)\n",
    "    pointC = rectlength.destination(point=pointB, bearing=bearing - 180)\n",
    "    pointD = rectwidth.destination(point=pointC, bearing=0 - bearing)\n",
    "\n",
    "    points = []\n",
    "    for point in [pointA, pointB, pointC, pointD]:\n",
    "        coords = (point.latitude, point.longitude)\n",
    "        points.append(coords)\n",
    "\n",
    "    return points\n",
    "\n",
    "\n",
    "def get_collision(v1_id, v2_id, v1_coords, v2_coords, dimensions):\n",
    "    colision = 0\n",
    "\n",
    "    v1_length = dimensions[dimensions['vehicle_id'] == v1_id].iloc[0, 1]\n",
    "    v1_width = dimensions[dimensions['vehicle_id'] == v1_id].iloc[0, 2]\n",
    "    v1_points = get_rotated_points(tuple(v1_coords[:2]), v1_coords[2],\n",
    "                                 v1_width, v1_length)\n",
    "    polygon1 = geometry.Polygon(v1_points)\n",
    "\n",
    "    v2_length = dimensions[dimensions['vehicle_id'] == v2_id].iloc[0, 1]\n",
    "    v2_width = dimensions[dimensions['vehicle_id'] == v2_id].iloc[0, 2]\n",
    "    v2_points = get_rotated_points(tuple(v2_coords[:2]), v2_coords[2],\n",
    "                                 v2_width, v2_length)\n",
    "    polygon2 = geometry.Polygon(v2_points)\n",
    "\n",
    "    if polygon1.intersection(polygon2).area > 0.0:\n",
    "        colision = 1\n",
    "  \n",
    "    return colision\n",
    "\n",
    "\n",
    "def calculate_variance(values):\n",
    "    # Calculate the mean of the values\n",
    "    mean = np.mean(values)\n",
    "\n",
    "    # Calculate the variance by summing the squared differences\n",
    "    # between each value and the mean, and dividing by the number of values\n",
    "    variance = np.sum((values - mean) ** 2) / len(values)\n",
    "\n",
    "    return variance\n",
    "\n",
    "\n",
    "def calculate_covariance(values1, values2):\n",
    "    # Calculate the means of the values\n",
    "    mean1 = np.mean(values1)\n",
    "    mean2 = np.mean(values2)\n",
    "\n",
    "    # Calculate the covariance by summing the products of the differences\n",
    "    # between each pair of values and the means, and dividing by the number of values\n",
    "    covariance = np.sum((values1 - mean1) * (values2 - mean2)) / len(values1)\n",
    "\n",
    "    return covariance\n",
    "\n",
    "\n",
    "def calculate_covariance_matrix(latitudes, longitudes, thetas):\n",
    "    # Calculate the variance of the coordinates and orientation\n",
    "    # var_lat = calculate_variance(latitudes) # or np.var(latitudes)\n",
    "    # var_long = calculate_variance(longitudes) # or np.var(longitudes)\n",
    "    # var_theta = calculate_variance(thetas)  # or np.var(thetas)\n",
    "    var_lat = np.var(latitudes)\n",
    "    var_long = np.var(longitudes)\n",
    "    var_theta = np.var(thetas)\n",
    "\n",
    "    # Calculate the covariance between the coordinates and orientation\n",
    "    cov_latlong = calculate_covariance(latitudes, longitudes)\n",
    "    cov_lattheta = calculate_covariance(latitudes, thetas)\n",
    "    cov_longtheta = calculate_covariance(longitudes, thetas)\n",
    "\n",
    "    # Return the covariance matrix\n",
    "    return np.array([[var_lat, cov_latlong, cov_lattheta],\n",
    "                     [cov_latlong, var_long, cov_longtheta],\n",
    "                     [cov_lattheta, cov_longtheta, var_theta]])\n",
    "\n",
    "\n",
    "def calculate_pdf(y_pred):\n",
    "    # Calculate the mean position of the vehicle based on its coordinates and orientation\n",
    "    mean = [np.mean(y_pred[:, 0]), np.mean(y_pred[:, 1]), np.mean(y_pred[:, 2])]\n",
    "\n",
    "    # Calculate the covariance matrix of the vehicle's position based on its coordinates and orientation\n",
    "    covariance = calculate_covariance_matrix(y_pred[:, 0], y_pred[:, 1], y_pred[:, 2])\n",
    "\n",
    "    # Return the probability density function for the vehicle\n",
    "    return scipy.stats.multivariate_normal(mean=mean, cov=covariance,\n",
    "                                           allow_singular=True)\n",
    "\n",
    "\n",
    "def collision_probability(y_pred1, y_pred2, num_samples=1000):\n",
    "    # Calculate the probability density function for both vehicles\n",
    "    pdf1 = calculate_pdf(y_pred1)\n",
    "    pdf2 = calculate_pdf(y_pred2)\n",
    "\n",
    "    # Generate random samples for the positions of both vehicles\n",
    "    samples1 = pdf1.rvs(size=num_samples)\n",
    "    samples2 = pdf2.rvs(size=num_samples)\n",
    "\n",
    "    # Calculate the number of samples where the vehicles are closer\n",
    "    collisions = 0\n",
    "    for i in range(num_samples):\n",
    "    # Check if there is collision between the vehicles\n",
    "        if get_collision(v1_id, v2_id, samples1[i], samples2[i], df_dim):\n",
    "            collisions += 1\n",
    "\n",
    "    # Return the fraction of samples where the vehicles collide\n",
    "    return collisions / num_samples"
   ]
  },
  {
   "cell_type": "markdown",
   "metadata": {
    "id": "T-0EWyfMYu_t"
   },
   "source": [
    "## 2.1. Análisis de tiempos"
   ]
  },
  {
   "cell_type": "code",
   "execution_count": 15,
   "metadata": {
    "id": "5E7qwGmihAbV"
   },
   "outputs": [],
   "source": [
    "# We use the same vehicles for all tests\n",
    "v1_id = df_col.iloc[0, 0]\n",
    "v2_id = df_col.iloc[0, 1]\n",
    "\n",
    "y_v1 = np.array(df[df['vehicle_id'] == v1_id].iloc[-5:, 2:]).reshape(-1, 3)\n",
    "y_v2 = np.array(df[df['vehicle_id'] == v2_id].iloc[-5:, 2:]).reshape(-1, 3)"
   ]
  },
  {
   "cell_type": "markdown",
   "metadata": {
    "id": "xk5V493uYzV9"
   },
   "source": [
    "### 2.1.1. 100 muestras"
   ]
  },
  {
   "cell_type": "code",
   "execution_count": 16,
   "metadata": {
    "colab": {
     "base_uri": "https://localhost:8080/"
    },
    "id": "O_wRzyI6Tei-",
    "outputId": "644b3093-0537-4f4c-b578-1567d64baaa1"
   },
   "outputs": [
    {
     "name": "stdout",
     "output_type": "stream",
     "text": [
      "Execution time (s):  0.5245966911315918\n",
      "Emissions (kg):  2.5046067390455324e-06\n",
      "Collision probability:  0.01\n"
     ]
    }
   ],
   "source": [
    "tracker = EmissionsTracker(log_level=\"error\")\n",
    "tracker.start()\n",
    "start = time.time()\n",
    "collision_prob = collision_probability(y_v1, y_v2, num_samples=100)\n",
    "total_time = time.time() - start\n",
    "emissions = tracker.stop()\n",
    "print(\"Execution time (s): \", total_time)\n",
    "print(\"Emissions (kg): \", emissions)\n",
    "print(\"Collision probability: \", collision_prob)"
   ]
  },
  {
   "cell_type": "markdown",
   "metadata": {
    "id": "O1WYFUo0b3T5"
   },
   "source": [
    "### 2.1.2. 250 muestras"
   ]
  },
  {
   "cell_type": "code",
   "execution_count": 17,
   "metadata": {
    "colab": {
     "base_uri": "https://localhost:8080/"
    },
    "id": "d504tSIab621",
    "outputId": "0c7ff141-9ac9-4871-801f-33caa3739651"
   },
   "outputs": [
    {
     "name": "stdout",
     "output_type": "stream",
     "text": [
      "Execution time (s):  1.021268606185913\n",
      "Emissions (kg):  3.6460694746740016e-06\n",
      "Collision probability:  0.032\n"
     ]
    }
   ],
   "source": [
    "tracker = EmissionsTracker(log_level=\"error\")\n",
    "tracker.start()\n",
    "start = time.time()\n",
    "collision_prob = collision_probability(y_v1, y_v2, num_samples=250)\n",
    "total_time = time.time() - start\n",
    "emissions = tracker.stop()\n",
    "print(\"Execution time (s): \", total_time)\n",
    "print(\"Emissions (kg): \", emissions)\n",
    "print(\"Collision probability: \", collision_prob)"
   ]
  },
  {
   "cell_type": "markdown",
   "metadata": {
    "id": "kK3Rgypr_q02"
   },
   "source": [
    "### 2.1.3 300 muestras"
   ]
  },
  {
   "cell_type": "code",
   "execution_count": 18,
   "metadata": {
    "colab": {
     "base_uri": "https://localhost:8080/"
    },
    "id": "2QLcBY7H_qKG",
    "outputId": "eb6782f4-a8c0-49ec-ba4f-3842e92dcc2d"
   },
   "outputs": [
    {
     "name": "stdout",
     "output_type": "stream",
     "text": [
      "Execution time (s):  1.5777819156646729\n",
      "Emissions (kg):  4.691291615229949e-06\n",
      "Collision probability:  0.03\n"
     ]
    }
   ],
   "source": [
    "tracker = EmissionsTracker(log_level=\"error\")\n",
    "tracker.start()\n",
    "start = time.time()\n",
    "collision_prob = collision_probability(y_v1, y_v2, num_samples=300)\n",
    "total_time = time.time() - start\n",
    "emissions = tracker.stop()\n",
    "print(\"Execution time (s): \", total_time)\n",
    "print(\"Emissions (kg): \", emissions)\n",
    "print(\"Collision probability: \", collision_prob)"
   ]
  },
  {
   "cell_type": "markdown",
   "metadata": {
    "id": "oBbmUMQRcAKM"
   },
   "source": [
    "### 2.1.3 350 muestras"
   ]
  },
  {
   "cell_type": "code",
   "execution_count": 19,
   "metadata": {
    "colab": {
     "base_uri": "https://localhost:8080/"
    },
    "id": "q-GupcJEcHXt",
    "outputId": "df0c406c-27eb-4b4b-d31e-c490027f9790"
   },
   "outputs": [
    {
     "name": "stdout",
     "output_type": "stream",
     "text": [
      "Execution time (s):  1.3813047409057617\n",
      "Emissions (kg):  4.309076937814882e-06\n",
      "Collision probability:  0.03142857142857143\n"
     ]
    }
   ],
   "source": [
    "tracker = EmissionsTracker(log_level=\"error\")\n",
    "tracker.start()\n",
    "start = time.time()\n",
    "collision_prob = collision_probability(y_v1, y_v2, num_samples=350)\n",
    "total_time = time.time() - start\n",
    "emissions = tracker.stop()\n",
    "print(\"Execution time (s): \", total_time)\n",
    "print(\"Emissions (kg): \", emissions)\n",
    "print(\"Collision probability: \", collision_prob)"
   ]
  },
  {
   "cell_type": "markdown",
   "metadata": {
    "id": "UereWgpsY7JX"
   },
   "source": [
    "### 2.1.4. 500 muestras"
   ]
  },
  {
   "cell_type": "code",
   "execution_count": 20,
   "metadata": {
    "colab": {
     "base_uri": "https://localhost:8080/"
    },
    "id": "16nNs0zcY-yP",
    "outputId": "2a0c14d0-ce76-4f53-b90a-fdde40770ede"
   },
   "outputs": [
    {
     "name": "stdout",
     "output_type": "stream",
     "text": [
      "Execution time (s):  2.1432676315307617\n",
      "Emissions (kg):  5.737831179904913e-06\n",
      "Collision probability:  0.024\n"
     ]
    }
   ],
   "source": [
    "tracker = EmissionsTracker(log_level=\"error\")\n",
    "tracker.start()\n",
    "start = time.time()\n",
    "collision_prob = collision_probability(y_v1, y_v2, num_samples=500)\n",
    "total_time = time.time() - start\n",
    "emissions = tracker.stop()\n",
    "print(\"Execution time (s): \", total_time)\n",
    "print(\"Emissions (kg): \", emissions)\n",
    "print(\"Collision probability: \", collision_prob)"
   ]
  },
  {
   "cell_type": "markdown",
   "metadata": {
    "id": "rRLXUH6-ZBDj"
   },
   "source": [
    "### 2.1.5. 1000 muestras"
   ]
  },
  {
   "cell_type": "code",
   "execution_count": 21,
   "metadata": {
    "colab": {
     "base_uri": "https://localhost:8080/"
    },
    "id": "OxqNejgbZEvr",
    "outputId": "c0ae41e2-8734-441e-b553-16b92fc6b90a"
   },
   "outputs": [
    {
     "name": "stdout",
     "output_type": "stream",
     "text": [
      "Execution time (s):  4.062134265899658\n",
      "Emissions (kg):  9.285928891335933e-06\n",
      "Collision probability:  0.028\n"
     ]
    }
   ],
   "source": [
    "tracker = EmissionsTracker(log_level=\"error\")\n",
    "tracker.start()\n",
    "start = time.time()\n",
    "collision_prob = collision_probability(y_v1, y_v2, num_samples=1000)\n",
    "total_time = time.time() - start\n",
    "emissions = tracker.stop()\n",
    "print(\"Execution time (s): \", total_time)\n",
    "print(\"Emissions (kg): \", emissions)\n",
    "print(\"Collision probability: \", collision_prob)"
   ]
  },
  {
   "cell_type": "markdown",
   "metadata": {
    "id": "lSQQoYc97AKF"
   },
   "source": [
    "## 2.2. Probabilidad de colisión en el conjunto de datos real"
   ]
  },
  {
   "cell_type": "code",
   "execution_count": 22,
   "metadata": {
    "id": "D9d2jC9q7AKG"
   },
   "outputs": [],
   "source": [
    "PREDICT=False\n",
    "SAMPLES=300\n",
    "\n",
    "col_array = np.empty((0, 5))\n",
    "\n",
    "# Vehiculos que coinciden y colisionan\n",
    "for i in range(df_col.shape[0]):\n",
    "    v1_id = df_col.iloc[i, 0]\n",
    "    v2_id = df_col.iloc[i, 1]\n",
    "\n",
    "    if PREDICT:\n",
    "        v1_index = vehicle_ids.index(v1_id)\n",
    "        y_v1 = model.predict(X_test[v1_index].reshape(1, 20, 3), verbose=0)\n",
    "        y_v1 = minmaxscaler.inverse_transform(y_v1.reshape(-1, 3))\n",
    "        y_v1 = y_v1.reshape(-1, 3)\n",
    "\n",
    "        v2_index = vehicle_ids.index(v2_id)\n",
    "        y_v2 = model.predict(X_test[v2_index].reshape(1, 20, 3), verbose=0)\n",
    "        y_v2 = minmaxscaler.inverse_transform(y_v2.reshape(-1, 3))\n",
    "        y_v2 = y_v2.reshape(-1, 3)\n",
    "    else:\n",
    "        y_v1 = np.array(df[df['vehicle_id'] == v1_id].iloc[-5:, 2:]).reshape(-1, 3)\n",
    "        y_v2 = np.array(df[df['vehicle_id'] == v2_id].iloc[-5:, 2:]).reshape(-1, 3)\n",
    "\n",
    "    start = time.time()\n",
    "    collision_prob = collision_probability(y_v1, y_v2, num_samples=SAMPLES)\n",
    "    total_time = time.time() - start\n",
    "    col_array = np.vstack((col_array,\n",
    "                         np.array([v1_id, v2_id, total_time, collision_prob, 1])))\n",
    "\n",
    "# Vehiculos que coinciden pero no colisionan\n",
    "for i in range(df_nocol.shape[0]):\n",
    "    v1_id = df_nocol.iloc[i, 0]\n",
    "    v2_id = df_nocol.iloc[i, 1]\n",
    "\n",
    "    if PREDICT:\n",
    "        v1_index = vehicle_ids.index(v1_id)\n",
    "        y_v1 = model.predict(X_test[v1_index].reshape(1, 20, 3), verbose=0)\n",
    "        y_v1 = minmaxscaler.inverse_transform(y_v1.reshape(-1, 3))\n",
    "        y_v1 = y_v1.reshape(-1, 3)\n",
    "\n",
    "        v2_index = vehicle_ids.index(v2_id)\n",
    "        y_v2 = model.predict(X_test[v2_index].reshape(1, 20, 3), verbose=0)\n",
    "        y_v2 = minmaxscaler.inverse_transform(y_v2.reshape(-1, 3))\n",
    "        y_v2 = y_v2.reshape(-1, 3)\n",
    "    else:\n",
    "        y_v1 = np.array(df[df['vehicle_id'] == v1_id].iloc[-5:, 2:]).reshape(-1, 3)\n",
    "        y_v2 = np.array(df[df['vehicle_id'] == v2_id].iloc[-5:, 2:]).reshape(-1, 3)\n",
    "\n",
    "    start = time.time()\n",
    "    collision_prob = collision_probability(y_v1, y_v2, num_samples=SAMPLES)\n",
    "    total_time = time.time() - start\n",
    "    col_array = np.vstack((col_array,\n",
    "                         np.array([v1_id, v2_id, total_time, collision_prob, 0])))"
   ]
  },
  {
   "cell_type": "code",
   "execution_count": 24,
   "metadata": {
    "colab": {
     "base_uri": "https://localhost:8080/",
     "height": 206
    },
    "id": "ujlP268Q7AKH",
    "outputId": "395d9bd5-6e2b-4d50-fb38-e232370956cd"
   },
   "outputs": [
    {
     "data": {
      "text/html": [
       "<div>\n",
       "<style scoped>\n",
       "    .dataframe tbody tr th:only-of-type {\n",
       "        vertical-align: middle;\n",
       "    }\n",
       "\n",
       "    .dataframe tbody tr th {\n",
       "        vertical-align: top;\n",
       "    }\n",
       "\n",
       "    .dataframe thead th {\n",
       "        text-align: right;\n",
       "    }\n",
       "</style>\n",
       "<table border=\"1\" class=\"dataframe\">\n",
       "  <thead>\n",
       "    <tr style=\"text-align: right;\">\n",
       "      <th></th>\n",
       "      <th>vehicle1</th>\n",
       "      <th>vehicle2</th>\n",
       "      <th>execution_time</th>\n",
       "      <th>probability</th>\n",
       "      <th>collision</th>\n",
       "    </tr>\n",
       "  </thead>\n",
       "  <tbody>\n",
       "    <tr>\n",
       "      <th>0</th>\n",
       "      <td>121.0</td>\n",
       "      <td>103.0</td>\n",
       "      <td>1.203780</td>\n",
       "      <td>0.033333</td>\n",
       "      <td>1.0</td>\n",
       "    </tr>\n",
       "    <tr>\n",
       "      <th>1</th>\n",
       "      <td>158.0</td>\n",
       "      <td>113.0</td>\n",
       "      <td>1.339417</td>\n",
       "      <td>0.013333</td>\n",
       "      <td>1.0</td>\n",
       "    </tr>\n",
       "    <tr>\n",
       "      <th>2</th>\n",
       "      <td>197.0</td>\n",
       "      <td>165.0</td>\n",
       "      <td>1.268607</td>\n",
       "      <td>0.736667</td>\n",
       "      <td>1.0</td>\n",
       "    </tr>\n",
       "    <tr>\n",
       "      <th>3</th>\n",
       "      <td>193.0</td>\n",
       "      <td>230.0</td>\n",
       "      <td>1.156906</td>\n",
       "      <td>0.023333</td>\n",
       "      <td>1.0</td>\n",
       "    </tr>\n",
       "    <tr>\n",
       "      <th>4</th>\n",
       "      <td>207.0</td>\n",
       "      <td>122.0</td>\n",
       "      <td>1.272596</td>\n",
       "      <td>0.003333</td>\n",
       "      <td>1.0</td>\n",
       "    </tr>\n",
       "  </tbody>\n",
       "</table>\n",
       "</div>"
      ],
      "text/plain": [
       "   vehicle1  vehicle2  execution_time  probability  collision\n",
       "0     121.0     103.0        1.203780     0.033333        1.0\n",
       "1     158.0     113.0        1.339417     0.013333        1.0\n",
       "2     197.0     165.0        1.268607     0.736667        1.0\n",
       "3     193.0     230.0        1.156906     0.023333        1.0\n",
       "4     207.0     122.0        1.272596     0.003333        1.0"
      ]
     },
     "execution_count": 24,
     "metadata": {},
     "output_type": "execute_result"
    }
   ],
   "source": [
    "DATASETS_FOLDER = './'\n",
    "if PREDICT:\n",
    "    PROB_FILE = os.path.join(MODEL_FOLDER, \"collision_prob.csv\")\n",
    "else:\n",
    "    PROB_FILE = os.path.join(DATASETS_FOLDER, \"collision_prob.csv\")\n",
    "\n",
    "df_collision_prob = pd.DataFrame(\n",
    "    col_array.reshape(-1, 5),\n",
    "    columns=['vehicle1', 'vehicle2', 'execution_time', 'probability', 'collision'])\n",
    "df_collision_prob.to_csv(PROB_FILE, index=False)\n",
    "df_collision_prob.head()"
   ]
  },
  {
   "cell_type": "code",
   "execution_count": 25,
   "metadata": {
    "colab": {
     "base_uri": "https://localhost:8080/",
     "height": 206
    },
    "id": "im2XRz3AN8Ms",
    "outputId": "19ed03b9-9781-4f54-8da3-180de114b609"
   },
   "outputs": [
    {
     "data": {
      "text/html": [
       "<div>\n",
       "<style scoped>\n",
       "    .dataframe tbody tr th:only-of-type {\n",
       "        vertical-align: middle;\n",
       "    }\n",
       "\n",
       "    .dataframe tbody tr th {\n",
       "        vertical-align: top;\n",
       "    }\n",
       "\n",
       "    .dataframe thead th {\n",
       "        text-align: right;\n",
       "    }\n",
       "</style>\n",
       "<table border=\"1\" class=\"dataframe\">\n",
       "  <thead>\n",
       "    <tr style=\"text-align: right;\">\n",
       "      <th></th>\n",
       "      <th>vehicle1</th>\n",
       "      <th>vehicle2</th>\n",
       "      <th>execution_time</th>\n",
       "      <th>probability</th>\n",
       "      <th>collision</th>\n",
       "    </tr>\n",
       "  </thead>\n",
       "  <tbody>\n",
       "    <tr>\n",
       "      <th>1000</th>\n",
       "      <td>800.0</td>\n",
       "      <td>770.0</td>\n",
       "      <td>1.247663</td>\n",
       "      <td>0.000000</td>\n",
       "      <td>0.0</td>\n",
       "    </tr>\n",
       "    <tr>\n",
       "      <th>1001</th>\n",
       "      <td>4115.0</td>\n",
       "      <td>4132.0</td>\n",
       "      <td>1.245668</td>\n",
       "      <td>0.646667</td>\n",
       "      <td>0.0</td>\n",
       "    </tr>\n",
       "    <tr>\n",
       "      <th>1002</th>\n",
       "      <td>2054.0</td>\n",
       "      <td>2006.0</td>\n",
       "      <td>1.168873</td>\n",
       "      <td>0.006667</td>\n",
       "      <td>0.0</td>\n",
       "    </tr>\n",
       "    <tr>\n",
       "      <th>1003</th>\n",
       "      <td>736.0</td>\n",
       "      <td>782.0</td>\n",
       "      <td>1.146933</td>\n",
       "      <td>0.000000</td>\n",
       "      <td>0.0</td>\n",
       "    </tr>\n",
       "    <tr>\n",
       "      <th>1004</th>\n",
       "      <td>1291.0</td>\n",
       "      <td>1262.0</td>\n",
       "      <td>1.131973</td>\n",
       "      <td>0.000000</td>\n",
       "      <td>0.0</td>\n",
       "    </tr>\n",
       "  </tbody>\n",
       "</table>\n",
       "</div>"
      ],
      "text/plain": [
       "      vehicle1  vehicle2  execution_time  probability  collision\n",
       "1000     800.0     770.0        1.247663     0.000000        0.0\n",
       "1001    4115.0    4132.0        1.245668     0.646667        0.0\n",
       "1002    2054.0    2006.0        1.168873     0.006667        0.0\n",
       "1003     736.0     782.0        1.146933     0.000000        0.0\n",
       "1004    1291.0    1262.0        1.131973     0.000000        0.0"
      ]
     },
     "execution_count": 25,
     "metadata": {},
     "output_type": "execute_result"
    }
   ],
   "source": [
    "df_collision_prob[df_collision_prob['collision'] == 0].head()"
   ]
  },
  {
   "cell_type": "code",
   "execution_count": 26,
   "metadata": {
    "colab": {
     "base_uri": "https://localhost:8080/"
    },
    "id": "bmOEejz1K6gM",
    "outputId": "ee91dc75-6f1f-485f-b111-a77691d83f73"
   },
   "outputs": [
    {
     "name": "stdout",
     "output_type": "stream",
     "text": [
      "Probabilidad media de colision para las colisiones: 0.0834700000000001\n",
      "Probabilidad media de colision para las no-colisiones: 0.06999666666666668\n",
      "Tiempo medio de ejecuion para las colisiones: 1.1573280193805695\n",
      "Tiempo medio de ejecuion para las no-colisiones: 1.1423223152160644\n"
     ]
    }
   ],
   "source": [
    "collisions = df_collision_prob[df_collision_prob['collision'] == 1]\n",
    "no_collisions = df_collision_prob[df_collision_prob['collision'] == 0]\n",
    "\n",
    "print(\"Probabilidad media de colision para las colisiones: {}\"\n",
    "      .format(np.mean(collisions['probability'])))\n",
    "print(\"Probabilidad media de colision para las no-colisiones: {}\"\n",
    "      .format(np.mean(no_collisions['probability'])))\n",
    "\n",
    "print(\"Tiempo medio de ejecuion para las colisiones: {}\"\n",
    "      .format(np.mean(collisions['execution_time'])))\n",
    "print(\"Tiempo medio de ejecuion para las no-colisiones: {}\"\n",
    "      .format(np.mean(no_collisions['execution_time'])))"
   ]
  },
  {
   "cell_type": "code",
   "execution_count": 27,
   "metadata": {
    "colab": {
     "base_uri": "https://localhost:8080/"
    },
    "id": "p2PWHGvMW9mn",
    "outputId": "bf7c14b5-e56a-43c1-882b-2f351e3414a1"
   },
   "outputs": [
    {
     "data": {
      "text/plain": [
       "count    1000.000000\n",
       "mean        0.083470\n",
       "std         0.105927\n",
       "min         0.000000\n",
       "25%         0.016667\n",
       "50%         0.046667\n",
       "75%         0.116667\n",
       "max         0.966667\n",
       "Name: probability, dtype: float64"
      ]
     },
     "execution_count": 27,
     "metadata": {},
     "output_type": "execute_result"
    }
   ],
   "source": [
    "collisions['probability'].describe()"
   ]
  },
  {
   "cell_type": "code",
   "execution_count": 28,
   "metadata": {
    "colab": {
     "base_uri": "https://localhost:8080/"
    },
    "id": "3zsY_TYyYbOM",
    "outputId": "0c9f8eaf-0c7a-42e9-8d89-49d3b2b1c464"
   },
   "outputs": [
    {
     "data": {
      "text/plain": [
       "count    1000.000000\n",
       "mean        0.069997\n",
       "std         0.111321\n",
       "min         0.000000\n",
       "25%         0.000000\n",
       "50%         0.023333\n",
       "75%         0.083333\n",
       "max         0.746667\n",
       "Name: probability, dtype: float64"
      ]
     },
     "execution_count": 28,
     "metadata": {},
     "output_type": "execute_result"
    }
   ],
   "source": [
    "no_collisions['probability'].describe()"
   ]
  },
  {
   "cell_type": "code",
   "execution_count": 29,
   "metadata": {
    "colab": {
     "base_uri": "https://localhost:8080/"
    },
    "id": "GW5vp1JEWguN",
    "outputId": "099b1cab-729b-4973-ba97-9cd99f129141"
   },
   "outputs": [
    {
     "name": "stdout",
     "output_type": "stream",
     "text": [
      "Valores por encima de la media en las colisiones: 769\n",
      "Valores por debajo de la media en las colisiones: 231\n",
      "Valores por encima de la media en las no-colisiones: 571\n",
      "Valores por debajo de la media en las no-colisiones: 429\n"
     ]
    }
   ],
   "source": [
    "collision_threshold = 0.016\n",
    "\n",
    "print(\"Valores por encima de la media en las colisiones: {}\"\n",
    "      .format(len(collisions[collisions['probability'] >= collision_threshold])))\n",
    "print(\"Valores por debajo de la media en las colisiones: {}\"\n",
    "      .format(len(collisions[collisions['probability'] < collision_threshold])))\n",
    "\n",
    "print(\"Valores por encima de la media en las no-colisiones: {}\"\n",
    "      .format(len(no_collisions[no_collisions['probability'] >= collision_threshold])))\n",
    "print(\"Valores por debajo de la media en las no-colisiones: {}\"\n",
    "      .format(len(no_collisions[no_collisions['probability'] < collision_threshold])))"
   ]
  },
  {
   "cell_type": "code",
   "execution_count": 30,
   "metadata": {
    "colab": {
     "base_uri": "https://localhost:8080/",
     "height": 513
    },
    "id": "Ic0UMML582PU",
    "outputId": "dbc417bc-a72f-456d-8439-a3109207b23a"
   },
   "outputs": [
    {
     "data": {
      "image/png": "[encoded data removed]",
      "text/plain": [
       "<Figure size 1080x576 with 2 Axes>"
      ]
     },
     "metadata": {
      "needs_background": "light"
     },
     "output_type": "display_data"
    }
   ],
   "source": [
    "data_prob = [collisions['probability'], no_collisions['probability']]\n",
    "data_time = [collisions['execution_time'], no_collisions['execution_time']]\n",
    "\n",
    "fig, ax = plt.subplots(nrows=1, ncols=2, figsize=(15, 8))\n",
    "ax[0].boxplot(data_prob, showmeans=True, patch_artist = True,\n",
    "              labels=['Yes', 'No'])\n",
    "ax[0].set_title(\"Probabilidad de colisión (trayectorias reales)\")\n",
    "ax[0].set_xlabel(\"Collision\")\n",
    "\n",
    "ax[1].boxplot(data_time, showmeans=True, patch_artist = True,\n",
    "              labels=['Yes', 'No'])\n",
    "ax[1].set_title(\"Tiempo de cálculo (trayectorias reales)\")\n",
    "ax[1].set_xlabel(\"Collision\")\n",
    "plt.show()"
   ]
  },
  {
   "cell_type": "markdown",
   "metadata": {
    "id": "awp8xbs5ZHsW"
   },
   "source": [
    "## 2.3. Probabilidad de colisión en el conjunto de datos predicho"
   ]
  },
  {
   "cell_type": "code",
   "execution_count": 31,
   "metadata": {
    "id": "vNRmuKYRktks"
   },
   "outputs": [],
   "source": [
    "PREDICT=True\n",
    "SAMPLES=300\n",
    "\n",
    "col_array = np.empty((0, 5))\n",
    "\n",
    "# Vehiculos que coinciden y colisionan\n",
    "for i in range(df_col.shape[0]):\n",
    "    v1_id = df_col.iloc[i, 0]\n",
    "    v2_id = df_col.iloc[i, 1]\n",
    "\n",
    "    if PREDICT:\n",
    "        v1_index = vehicle_ids.index(v1_id)\n",
    "        y_v1 = model.predict(X_test[v1_index].reshape(1, 20, 3), verbose=0)\n",
    "        y_v1 = minmaxscaler.inverse_transform(y_v1.reshape(-1, 3))\n",
    "        y_v1 = y_v1.reshape(-1, 3)\n",
    "\n",
    "        v2_index = vehicle_ids.index(v2_id)\n",
    "        y_v2 = model.predict(X_test[v2_index].reshape(1, 20, 3), verbose=0)\n",
    "        y_v2 = minmaxscaler.inverse_transform(y_v2.reshape(-1, 3))\n",
    "        y_v2 = y_v2.reshape(-1, 3)\n",
    "    else:\n",
    "        y_v1 = np.array(df[df['vehicle_id'] == v1_id].iloc[-5:, 2:]).reshape(-1, 3)\n",
    "        y_v2 = np.array(df[df['vehicle_id'] == v2_id].iloc[-5:, 2:]).reshape(-1, 3)\n",
    "\n",
    "    start = time.time()\n",
    "    collision_prob = collision_probability(y_v1, y_v2, num_samples=SAMPLES)\n",
    "    total_time = time.time() - start\n",
    "    col_array = np.vstack((col_array,\n",
    "                         np.array([v1_id, v2_id, total_time, collision_prob, 1])))\n",
    "\n",
    "# Vehiculos que coinciden pero no colisionan\n",
    "for i in range(df_nocol.shape[0]):\n",
    "    v1_id = df_nocol.iloc[i, 0]\n",
    "    v2_id = df_nocol.iloc[i, 1]\n",
    "\n",
    "    if PREDICT:\n",
    "        v1_index = vehicle_ids.index(v1_id)\n",
    "        y_v1 = model.predict(X_test[v1_index].reshape(1, 20, 3), verbose=0)\n",
    "        y_v1 = minmaxscaler.inverse_transform(y_v1.reshape(-1, 3))\n",
    "        y_v1 = y_v1.reshape(-1, 3)\n",
    "\n",
    "        v2_index = vehicle_ids.index(v2_id)\n",
    "        y_v2 = model.predict(X_test[v2_index].reshape(1, 20, 3), verbose=0)\n",
    "        y_v2 = minmaxscaler.inverse_transform(y_v2.reshape(-1, 3))\n",
    "        y_v2 = y_v2.reshape(-1, 3)\n",
    "    else:\n",
    "        y_v1 = np.array(df[df['vehicle_id'] == v1_id].iloc[-5:, 2:]).reshape(-1, 3)\n",
    "        y_v2 = np.array(df[df['vehicle_id'] == v2_id].iloc[-5:, 2:]).reshape(-1, 3)\n",
    "\n",
    "    start = time.time()\n",
    "    collision_prob = collision_probability(y_v1, y_v2, num_samples=SAMPLES)\n",
    "    total_time = time.time() - start\n",
    "    col_array = np.vstack((col_array,\n",
    "                         np.array([v1_id, v2_id, total_time, collision_prob, 0])))"
   ]
  },
  {
   "cell_type": "code",
   "execution_count": 32,
   "metadata": {
    "colab": {
     "base_uri": "https://localhost:8080/",
     "height": 206
    },
    "id": "acTAr8n4rrAm",
    "outputId": "368e00f1-5f15-4210-a260-2082dbe16d2e"
   },
   "outputs": [
    {
     "data": {
      "text/html": [
       "<div>\n",
       "<style scoped>\n",
       "    .dataframe tbody tr th:only-of-type {\n",
       "        vertical-align: middle;\n",
       "    }\n",
       "\n",
       "    .dataframe tbody tr th {\n",
       "        vertical-align: top;\n",
       "    }\n",
       "\n",
       "    .dataframe thead th {\n",
       "        text-align: right;\n",
       "    }\n",
       "</style>\n",
       "<table border=\"1\" class=\"dataframe\">\n",
       "  <thead>\n",
       "    <tr style=\"text-align: right;\">\n",
       "      <th></th>\n",
       "      <th>vehicle1</th>\n",
       "      <th>vehicle2</th>\n",
       "      <th>execution_time</th>\n",
       "      <th>probability</th>\n",
       "      <th>collision</th>\n",
       "    </tr>\n",
       "  </thead>\n",
       "  <tbody>\n",
       "    <tr>\n",
       "      <th>0</th>\n",
       "      <td>121.0</td>\n",
       "      <td>103.0</td>\n",
       "      <td>1.007307</td>\n",
       "      <td>0.010000</td>\n",
       "      <td>1.0</td>\n",
       "    </tr>\n",
       "    <tr>\n",
       "      <th>1</th>\n",
       "      <td>158.0</td>\n",
       "      <td>113.0</td>\n",
       "      <td>1.213754</td>\n",
       "      <td>0.000000</td>\n",
       "      <td>1.0</td>\n",
       "    </tr>\n",
       "    <tr>\n",
       "      <th>2</th>\n",
       "      <td>197.0</td>\n",
       "      <td>165.0</td>\n",
       "      <td>1.322462</td>\n",
       "      <td>0.116667</td>\n",
       "      <td>1.0</td>\n",
       "    </tr>\n",
       "    <tr>\n",
       "      <th>3</th>\n",
       "      <td>193.0</td>\n",
       "      <td>230.0</td>\n",
       "      <td>1.356372</td>\n",
       "      <td>0.000000</td>\n",
       "      <td>1.0</td>\n",
       "    </tr>\n",
       "    <tr>\n",
       "      <th>4</th>\n",
       "      <td>207.0</td>\n",
       "      <td>122.0</td>\n",
       "      <td>1.480042</td>\n",
       "      <td>0.000000</td>\n",
       "      <td>1.0</td>\n",
       "    </tr>\n",
       "  </tbody>\n",
       "</table>\n",
       "</div>"
      ],
      "text/plain": [
       "   vehicle1  vehicle2  execution_time  probability  collision\n",
       "0     121.0     103.0        1.007307     0.010000        1.0\n",
       "1     158.0     113.0        1.213754     0.000000        1.0\n",
       "2     197.0     165.0        1.322462     0.116667        1.0\n",
       "3     193.0     230.0        1.356372     0.000000        1.0\n",
       "4     207.0     122.0        1.480042     0.000000        1.0"
      ]
     },
     "execution_count": 32,
     "metadata": {},
     "output_type": "execute_result"
    }
   ],
   "source": [
    "if PREDICT:\n",
    "    PROB_FILE = os.path.join(MODEL_FOLDER, \"collision_prob.csv\")\n",
    "else:\n",
    "    PROB_FILE = os.path.join(DATASETS_FOLDER, \"collision_prob.csv\")\n",
    "\n",
    "df_collision_prob = pd.DataFrame(\n",
    "    col_array.reshape(-1, 5),\n",
    "    columns=['vehicle1', 'vehicle2', 'execution_time', 'probability', 'collision'])\n",
    "df_collision_prob.to_csv(PROB_FILE, index=False)\n",
    "df_collision_prob.head()"
   ]
  },
  {
   "cell_type": "code",
   "execution_count": 33,
   "metadata": {
    "colab": {
     "base_uri": "https://localhost:8080/"
    },
    "id": "6H3VOQ79h05M",
    "outputId": "2e8388d0-ec2c-4957-a544-748349f73c59"
   },
   "outputs": [
    {
     "name": "stdout",
     "output_type": "stream",
     "text": [
      "Probabilidad media de colision para las colisiones: 0.015543333333333343\n",
      "Probabilidad media de colision para las no-colisiones: 0.029423333333333353\n",
      "Tiempo medio de ejecuion para las colisiones: 1.1846556453704833\n",
      "Tiempo medio de ejecuion para las no-colisiones: 1.7456601045131683\n"
     ]
    }
   ],
   "source": [
    "collisions = df_collision_prob[df_collision_prob['collision'] == 1]\n",
    "no_collisions = df_collision_prob[df_collision_prob['collision'] == 0]\n",
    "\n",
    "print(\"Probabilidad media de colision para las colisiones: {}\"\n",
    "      .format(np.mean(collisions['probability'])))\n",
    "print(\"Probabilidad media de colision para las no-colisiones: {}\"\n",
    "      .format(np.mean(no_collisions['probability'])))\n",
    "\n",
    "print(\"Tiempo medio de ejecuion para las colisiones: {}\"\n",
    "      .format(np.mean(collisions['execution_time'])))\n",
    "print(\"Tiempo medio de ejecuion para las no-colisiones: {}\"\n",
    "      .format(np.mean(no_collisions['execution_time'])))"
   ]
  },
  {
   "cell_type": "code",
   "execution_count": 34,
   "metadata": {
    "colab": {
     "base_uri": "https://localhost:8080/"
    },
    "id": "ocFucafkh9kN",
    "outputId": "613ab009-4504-4061-a202-43b8152dd421"
   },
   "outputs": [
    {
     "name": "stdout",
     "output_type": "stream",
     "text": [
      "Valores por encima de la media en las colisiones: 142\n",
      "Valores por debajo de la media en las colisiones: 858\n",
      "Valores por encima de la media en las no-colisiones: 147\n",
      "Valores por debajo de la media en las no-colisiones: 853\n"
     ]
    }
   ],
   "source": [
    "collision_threshold = 0.016\n",
    "\n",
    "print(\"Valores por encima de la media en las colisiones: {}\"\n",
    "      .format(len(collisions[collisions['probability'] >= collision_threshold])))\n",
    "print(\"Valores por debajo de la media en las colisiones: {}\"\n",
    "      .format(len(collisions[collisions['probability'] < collision_threshold])))\n",
    "\n",
    "print(\"Valores por encima de la media en las no-colisiones: {}\"\n",
    "      .format(len(no_collisions[no_collisions['probability'] >= collision_threshold])))\n",
    "print(\"Valores por debajo de la media en las no-colisiones: {}\"\n",
    "      .format(len(no_collisions[no_collisions['probability'] < collision_threshold])))"
   ]
  },
  {
   "cell_type": "code",
   "execution_count": 35,
   "metadata": {
    "colab": {
     "base_uri": "https://localhost:8080/",
     "height": 513
    },
    "id": "ltxvTl5XiJCy",
    "outputId": "36ceb7aa-23fd-4904-bc8e-72dd9be15768"
   },
   "outputs": [
    {
     "data": {
      "image/png": "[encoded data removed]",
      "text/plain": [
       "<Figure size 1080x576 with 2 Axes>"
      ]
     },
     "metadata": {
      "needs_background": "light"
     },
     "output_type": "display_data"
    }
   ],
   "source": [
    "data_prob = [collisions['probability'], no_collisions['probability']]\n",
    "data_time = [collisions['execution_time'], no_collisions['execution_time']]\n",
    "\n",
    "fig, ax = plt.subplots(nrows=1, ncols=2, figsize=(15, 8))\n",
    "ax[0].boxplot(data_prob, showmeans=True, patch_artist = True,\n",
    "              labels=['Yes', 'No'])\n",
    "ax[0].set_title(\"Probabilidad de colisión (trayectorias reales)\")\n",
    "ax[0].set_xlabel(\"Collision\")\n",
    "\n",
    "ax[1].boxplot(data_time, showmeans=True, patch_artist = True,\n",
    "              labels=['Yes', 'No'])\n",
    "ax[1].set_title(\"Tiempo de cálculo (trayectorias reales)\")\n",
    "ax[1].set_xlabel(\"Collision\")\n",
    "plt.show()"
   ]
  }
 ],
 "metadata": {
  "colab": {
   "provenance": []
  },
  "kernelspec": {
   "display_name": "Python 3",
   "language": "python",
   "name": "python3"
  },
  "language_info": {
   "codemirror_mode": {
    "name": "ipython",
    "version": 3
   },
   "file_extension": ".py",
   "mimetype": "text/x-python",
   "name": "python",
   "nbconvert_exporter": "python",
   "pygments_lexer": "ipython3",
   "version": "3.8.8"
  }
 },
 "nbformat": 4,
 "nbformat_minor": 1
}
